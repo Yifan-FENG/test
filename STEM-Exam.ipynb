{
 "cells": [
  {
   "cell_type": "markdown",
   "metadata": {},
   "source": [
    "# STEM for Creatives Exam\n",
    "\n",
    "Use the code below to load in data for questions where appropriate"
   ]
  },
  {
   "cell_type": "code",
   "execution_count": 6,
   "metadata": {},
   "outputs": [],
   "source": [
    "import numpy as np\n",
    "import matplotlib.pyplot as plt"
   ]
  },
  {
   "cell_type": "code",
   "execution_count": 7,
   "metadata": {},
   "outputs": [
    {
     "data": {
      "text/plain": [
       "array(['Robert Mapplethorpe', 'Jo Baer', 'Franz Ackermann', ...,\n",
       "       'George Peter Alexander Healy', 'Alfred Sisley', 'George Inness'],\n",
       "      dtype=object)"
      ]
     },
     "execution_count": 7,
     "metadata": {},
     "output_type": "execute_result"
    }
   ],
   "source": [
    "#Question 5\n",
    "#data from https://github.com/cmoa/collection\n",
    "with open('data/cmoa_clean.tsv') as f:\n",
    "    cmoa_data = np.loadtxt(f, dtype = 'O', skiprows=1, delimiter=\"\\t\") \n",
    "    cmoa_data[:,3] = cmoa_data[:,3].astype(float)\n",
    "    cmoa_data[:,4] = cmoa_data[:,4].astype(float)\n",
    "    cmoa_data = np.array(cmoa_data)\n",
    "len(cmoa_data[0])\n",
    "cmoa_data.shape\n",
    "cmoa_data[:,5]"
   ]
  },
  {
   "cell_type": "code",
   "execution_count": 8,
   "metadata": {},
   "outputs": [
    {
     "data": {
      "text/plain": [
       "2.2"
      ]
     },
     "execution_count": 8,
     "metadata": {},
     "output_type": "execute_result"
    }
   ],
   "source": [
    "#A#\n",
    "#Your code here\n",
    "sorted_time_1 = cmoa_data[:,1] >= '1700' \n",
    "new_data = cmoa_data[sorted_time_1]\n",
    "sorted_time_2 = new_data[:,1] < '1800'\n",
    "data = new_data[sorted_time_2]\n",
    "data_amount = data.shape[0]\n",
    "data_total = cmoa_data.shape[0]\n",
    "proportion = np.round (data_amount/data_total * 100,1)\n",
    "proportion "
   ]
  },
  {
   "cell_type": "code",
   "execution_count": 10,
   "metadata": {
    "scrolled": true
   },
   "outputs": [
    {
     "name": "stdout",
     "output_type": "stream",
     "text": [
      "18th artifacts contributes to 2.2 % of the whole collection.\n"
     ]
    }
   ],
   "source": [
    "#A Method 2 \n",
    "cmoa_date = cmoa_data[:,1] #create a new list that contains all dates \n",
    "sorted_time = cmoa_date[np.where((cmoa_date>='1700') & (cmoa_date<'1800'))] #between 1700 and 1800 \n",
    "sorted_data_amount = sorted_time.shape[0] #caculate the amount of dates\n",
    "data_total = cmoa_data.shape[0] #caculate total amounts of data\n",
    "proportion = np.round (sorted_data_amount/data_total * 100,1) #one decimal caculation in percentage\n",
    "print ('18th artifacts contributes to',proportion,'% of the whole collection.' )\n"
   ]
  },
  {
   "cell_type": "code",
   "execution_count": 11,
   "metadata": {},
   "outputs": [
    {
     "name": "stdout",
     "output_type": "stream",
     "text": [
      "The total number of items are:  820\n"
     ]
    }
   ],
   "source": [
    "#B#\n",
    "#Your code here\n",
    "name = cmoa_data[:,5] #create a list that has all names \n",
    "name_list = name.tolist() #convert array to list for iteration \n",
    "name_empty = [] #create an empty name list for item caculation \n",
    "\n",
    "#each element from the list must fullfill the following three condtions: has a \"H\" and one whitespace\n",
    "for i in name_list: \n",
    "    if i.count(\" H\") == 1 and i.count(\" \") == 1: \n",
    "        #print (i)\n",
    "        name_empty.append(i)\n",
    "print ('The total number of items are: ',len(name_empty)) "
   ]
  },
  {
   "cell_type": "markdown",
   "metadata": {},
   "source": [
    "Q1"
   ]
  },
  {
   "cell_type": "code",
   "execution_count": 4,
   "metadata": {},
   "outputs": [
    {
     "data": {
      "text/plain": [
       "80.0"
      ]
     },
     "execution_count": 4,
     "metadata": {},
     "output_type": "execute_result"
    }
   ],
   "source": [
    "import numpy as np\n",
    "\n",
    "#sin(theta) = A / H => H = A / sin(theta)\n",
    "distance = 40/(np.sin(np.radians(30)))\n",
    "result = np.round(distance,1) #one decimal \n",
    "result"
   ]
  },
  {
   "cell_type": "markdown",
   "metadata": {},
   "source": [
    "Q2"
   ]
  },
  {
   "cell_type": "code",
   "execution_count": 195,
   "metadata": {},
   "outputs": [
    {
     "data": {
      "text/plain": [
       "40.5"
      ]
     },
     "execution_count": 195,
     "metadata": {},
     "output_type": "execute_result"
    }
   ],
   "source": [
    "#frame amount = frame persecond * duration  \n",
    "frame_total = 30 * 13.5 \n",
    "#frame rate = frame amount / duration \n",
    "frame_rate = frame_total / 10\n",
    "frame_rate "
   ]
  },
  {
   "cell_type": "code",
   "execution_count": null,
   "metadata": {},
   "outputs": [],
   "source": []
  }
 ],
 "metadata": {
  "kernelspec": {
   "display_name": "Python 3",
   "language": "python",
   "name": "python3"
  },
  "language_info": {
   "codemirror_mode": {
    "name": "ipython",
    "version": 3
   },
   "file_extension": ".py",
   "mimetype": "text/x-python",
   "name": "python",
   "nbconvert_exporter": "python",
   "pygments_lexer": "ipython3",
   "version": "3.8.8"
  }
 },
 "nbformat": 4,
 "nbformat_minor": 4
}
