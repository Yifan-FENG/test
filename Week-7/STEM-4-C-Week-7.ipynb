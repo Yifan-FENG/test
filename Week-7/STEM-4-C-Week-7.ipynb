{
 "cells": [
  {
   "cell_type": "markdown",
   "metadata": {},
   "source": [
    "# Week 7 Conducting Statistical Tests in Python\n",
    "\n",
    "We're going to demonstrate how you can carry out each of the three statistical tests we covered in the lecture. \n",
    "\n",
    "Whilst they are all very simple (small amounts of code), its very important your data is in the right format, and you have considered based on your experimental deisgn which test you are doing, and how you can interpret the results. Also, that your data meets the assumptions required for that particular test."
   ]
  },
  {
   "cell_type": "code",
   "execution_count": 3,
   "metadata": {},
   "outputs": [],
   "source": [
    "import numpy as np\n",
    "import matplotlib.pyplot as plt"
   ]
  },
  {
   "cell_type": "markdown",
   "metadata": {},
   "source": [
    "### Generating some data\n",
    "\n",
    "First we generate some fake data from the experiment using the `np.random.normal` function. Obviously in a real situation, you would use data that you had collected during your experiment. \n",
    "\n",
    "A **normal** distribution has a bell shape and is centered around a given average. We also specify a **standard deviation** from this mean, which basically tells us the spread.\n",
    "\n",
    "Simluating our **between subjects** design, we make a set of results (how long each coversation lasted) for each group (wearing smart t shirts and not)."
   ]
  },
  {
   "cell_type": "code",
   "execution_count": 86,
   "metadata": {
    "scrolled": true
   },
   "outputs": [],
   "source": [
    "#We give a mean, and standard deviation and a number of values to generate\n",
    "data_shirts = np.random.normal(5, 1.7, 100)\n",
    "data_no_shirts = np.random.normal(4, 1.7, 100)"
   ]
  },
  {
   "cell_type": "code",
   "execution_count": 87,
   "metadata": {},
   "outputs": [
    {
     "data": {
      "text/plain": [
       "(array([ 2.,  0.,  1.,  1.,  2.,  4.,  9.,  3.,  7., 16.,  2., 10., 11.,\n",
       "         8.,  9.,  5.,  5.,  2.,  2.,  1.]),\n",
       " array([-0.33575954,  0.0451286 ,  0.42601675,  0.80690489,  1.18779303,\n",
       "         1.56868118,  1.94956932,  2.33045747,  2.71134561,  3.09223376,\n",
       "         3.4731219 ,  3.85401004,  4.23489819,  4.61578633,  4.99667448,\n",
       "         5.37756262,  5.75845077,  6.13933891,  6.52022705,  6.9011152 ,\n",
       "         7.28200334]),\n",
       " <BarContainer object of 20 artists>)"
      ]
     },
     "execution_count": 87,
     "metadata": {},
     "output_type": "execute_result"
    },
    {
     "data": {
      "image/png": "[encoded data removed]",
      "text/plain": [
       "<Figure size 432x432 with 1 Axes>"
      ]
     },
     "metadata": {
      "needs_background": "light"
     },
     "output_type": "display_data"
    }
   ],
   "source": [
    "#Plot a histogram of data \n",
    "fig, ax = plt.subplots(figsize=(6,6))\n",
    "ax.set_xlabel(\"length of conversation\")\n",
    "ax.set_ylabel(\"number of conversations of length\")\n",
    "#20 bins each\n",
    "ax.hist(data_shirts, 20, color = \"yellow\")\n",
    "ax.hist(data_no_shirts, 20, color = \"blue\")"
   ]
  },
  {
   "cell_type": "code",
   "execution_count": 67,
   "metadata": {},
   "outputs": [
    {
     "data": {
      "text/plain": [
       "[<matplotlib.lines.Line2D at 0x12969b128>]"
      ]
     },
     "execution_count": 67,
     "metadata": {},
     "output_type": "execute_result"
    },
    {
     "data": {
      "image/png": "[encoded data removed]",
      "text/plain": [
       "<Figure size 432x432 with 1 Axes>"
      ]
     },
     "metadata": {
      "needs_background": "light"
     },
     "output_type": "display_data"
    }
   ],
   "source": [
    "fig, ax = plt.subplots(figsize=(6,6))\n",
    "ax.set_ylabel(\"length of conversation\")\n",
    "ax.plot(data_shirts, \"yo\")\n",
    "ax.plot(data_no_shirts, \"bo\")"
   ]
  },
  {
   "cell_type": "markdown",
   "metadata": {},
   "source": [
    "### Error bars\n",
    "\n",
    "We calculate the error based on the **standard deviation** of each group, also factoring in the number of samples in the each group. \n",
    "\n",
    "We can then draw the errors on our chart."
   ]
  },
  {
   "cell_type": "code",
   "execution_count": 76,
   "metadata": {},
   "outputs": [
    {
     "data": {
      "text/plain": [
       "<BarContainer object of 2 artists>"
      ]
     },
     "execution_count": 76,
     "metadata": {},
     "output_type": "execute_result"
    },
    {
     "data": {
      "image/png": "[encoded data removed]",
      "text/plain": [
       "<Figure size 432x432 with 1 Axes>"
      ]
     },
     "metadata": {
      "needs_background": "light"
     },
     "output_type": "display_data"
    }
   ],
   "source": [
    "errors = [np.std(data_shirts)/np.sqrt(len(data_shirts)), np.std(data_no_shirts)/np.sqrt(len(data_no_shirts))]\n",
    "means = [np.mean(data_shirts), np.mean(data_no_shirts)]\n",
    "fig, ax = plt.subplots(figsize=(6,6))\n",
    "ax.bar([1,2], means, yerr=errors, align='center', capsize=10, color = [\"yellow\",\"blue\"])"
   ]
  },
  {
   "cell_type": "markdown",
   "metadata": {},
   "source": [
    "### T - Test\n",
    "\n",
    "For our between subjects design with two groups, we use a **T-Test**. A **p-value** of <0.05 returned from the test will allow us to reject the **null hypothesis** that that there is no difference between the means of the two groups. Thus we can say with reasonable confidence that the independent variable (t-shirt or not) effected our dependent variable (length of conversation)\n",
    "\n",
    "We use the following method from the SciPy library. \n",
    "\n",
    "We can only do this if the data is \n",
    "- independent\n",
    "- from a normal distribution \n",
    "- has equal variances "
   ]
  },
  {
   "cell_type": "code",
   "execution_count": 69,
   "metadata": {},
   "outputs": [
    {
     "data": {
      "text/plain": [
       "Ttest_indResult(statistic=4.674558979693013, pvalue=5.4397254789124545e-06)"
      ]
     },
     "execution_count": 69,
     "metadata": {},
     "output_type": "execute_result"
    }
   ],
   "source": [
    "from scipy import stats\n",
    "#t test for between subjects, two groups\n",
    "stats.ttest_ind(data_shirts, data_no_shirts)"
   ]
  },
  {
   "cell_type": "markdown",
   "metadata": {},
   "source": [
    "### Paired T - Test\n",
    "\n",
    "If we conducted a within subjects design with two groups, we use a **Paired T-Test**. For example, if we updated our experiment so that every participant took part in both conditions.\n",
    "\n",
    "A **p-value** of <0.05 returned from the test will allow us to reject the **null hypothesis** that that there is no difference between the means of the two measurements taken from each participant. Thus we can say with reasonable confidence that the independent variable (t-shirt or not) effected our dependent variable (length of conversation)\n",
    "\n",
    "We use the following method from the SciPy library. "
   ]
  },
  {
   "cell_type": "code",
   "execution_count": 48,
   "metadata": {},
   "outputs": [
    {
     "data": {
      "text/plain": [
       "Ttest_relResult(statistic=3.4928385263310044, pvalue=0.0007159497439351683)"
      ]
     },
     "execution_count": 48,
     "metadata": {},
     "output_type": "execute_result"
    }
   ],
   "source": [
    "#Paired t test for within subjects, two groups\n",
    "stats.ttest_rel(data_shirts, data_no_shirts)"
   ]
  },
  {
   "cell_type": "markdown",
   "metadata": {},
   "source": [
    "### ANOVA\n",
    "\n",
    "If we conducted a between subjects design with **more than two groups**, we use a **ANOVA**. For example, if we updated our experiment so we tested with a t shirt, without a t shirt and with a t shirt with a new design. \n",
    "\n",
    "\n",
    "A **p-value** of <0.05 returned from the test will allow us to reject the **null hypothesis** that that the all the means are equal between every group. Thus we can say with reasonable confidence that the independent variable (type of tshirt) effected our dependent variable (length of conversation)\n",
    "\n",
    "\n",
    "We can only do this if the data is \n",
    "- independent\n",
    "- from a normal distribution \n",
    "- has equal variances "
   ]
  },
  {
   "cell_type": "code",
   "execution_count": 83,
   "metadata": {},
   "outputs": [
    {
     "data": {
      "text/plain": [
       "F_onewayResult(statistic=11.355664001025648, pvalue=1.7691558478417226e-05)"
      ]
     },
     "execution_count": 83,
     "metadata": {},
     "output_type": "execute_result"
    }
   ],
   "source": [
    "#Generate new data\n",
    "data_shirts = np.random.normal(2.1, 1.7, 100)\n",
    "data_no_shirts = np.random.normal(2.9, 1.7, 100)\n",
    "data_new_design = np.random.normal(2.9, 1.7, 100)\n",
    "#ANOVA for between subjects, more than 2 groups\n",
    "stats.f_oneway(data_shirts, data_no_shirts, data_new_design)"
   ]
  }
 ],
 "metadata": {
  "kernelspec": {
   "display_name": "Python 3",
   "language": "python",
   "name": "python3"
  },
  "language_info": {
   "codemirror_mode": {
    "name": "ipython",
    "version": 3
   },
   "file_extension": ".py",
   "mimetype": "text/x-python",
   "name": "python",
   "nbconvert_exporter": "python",
   "pygments_lexer": "ipython3",
   "version": "3.8.5"
  }
 },
 "nbformat": 4,
 "nbformat_minor": 4
}
