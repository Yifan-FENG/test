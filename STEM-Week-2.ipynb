{
 "cells": [
  {
   "cell_type": "markdown",
   "metadata": {},
   "source": [
    "# STEM For Creatives Week 2"
   ]
  },
  {
   "cell_type": "markdown",
   "metadata": {},
   "source": [
    "## Functions \n",
    "\n",
    "When we write code, we often want to wrap up useful bits that we use all the time so we don't have to write out every step each time. \n",
    "\n",
    "We call these **Functions**.\n",
    "\n",
    "We can write our own, and we'll cover that in a later lecture, however, for now we'll focus on using ones that are included in the main part of ``Python``, or in packages we import.\n",
    "\n",
    "When we include its given name in some code, the **function** will \n",
    "\n",
    "\n",
    "1. Execute some code \n",
    "\n",
    "\n",
    "2. _Optionally_ take some inputs\n",
    "\n",
    "\n",
    "3. _Optionally_ return some value, which we can store in a ``variable``.\n",
    "\n",
    "\n",
    "We've actually already used one **function** quite a lot, and that is ``print()``. Here, it takes the input (the stuff inbetween the ``curly brackets()``) and prints this to the console. \n",
    "\n",
    "In fact, ``curly brakets()`` are a **dead giveaway** that you are dealing with a **function**.  \n",
    "\n",
    "#### Using ``len()``\n",
    "\n",
    "The second built in **function** we'll learn is ``len()``, which we can use with ``strings``. It takes the given input (an ``argument``), and ``returns`` its length. "
   ]
  },
  {
   "cell_type": "code",
   "execution_count": 2,
   "metadata": {
    "scrolled": true
   },
   "outputs": [
    {
     "name": "stdout",
     "output_type": "stream",
     "text": [
      "8\n"
     ]
    }
   ],
   "source": [
    "x = len(\"mystring\")\n",
    "print(x)"
   ]
  },
  {
   "cell_type": "markdown",
   "metadata": {},
   "source": [
    "#### Using ``min()``\n",
    "\n",
    "The ``type`` of the arguments that you give to functions (strings, ints etc...) matters. If you try to give the wrong type of value, the function won't know what to do and you might get an error! \n",
    "\n",
    "So, there are also built in functions that expect numbers arguments. Specifically, ``min()`` expects **2 numbers**, and returns the smallest"
   ]
  },
  {
   "cell_type": "code",
   "execution_count": 3,
   "metadata": {},
   "outputs": [
    {
     "data": {
      "text/plain": [
       "4"
      ]
     },
     "execution_count": 3,
     "metadata": {},
     "output_type": "execute_result"
    }
   ],
   "source": [
    "min(4,10000)"
   ]
  },
  {
   "cell_type": "code",
   "execution_count": 7,
   "metadata": {
    "collapsed": true
   },
   "outputs": [
    {
     "ename": "TypeError",
     "evalue": "'int' object is not iterable",
     "output_type": "error",
     "traceback": [
      "\u001b[0;31m---------------------------------------------------------------------------\u001b[0m",
      "\u001b[0;31mTypeError\u001b[0m                                 Traceback (most recent call last)",
      "\u001b[0;32m<ipython-input-7-bb3db472b52e>\u001b[0m in \u001b[0;36m<module>\u001b[0;34m\u001b[0m\n\u001b[0;32m----> 1\u001b[0;31m \u001b[0mmin\u001b[0m\u001b[0;34m(\u001b[0m\u001b[0;36m4\u001b[0m\u001b[0;34m)\u001b[0m\u001b[0;34m\u001b[0m\u001b[0;34m\u001b[0m\u001b[0m\n\u001b[0m",
      "\u001b[0;31mTypeError\u001b[0m: 'int' object is not iterable"
     ]
    }
   ],
   "source": [
    "## Needs two arguments!\n",
    "min(4)"
   ]
  },
  {
   "cell_type": "markdown",
   "metadata": {},
   "source": [
    "### Task - 1\n",
    "\n",
    "1. Write some code which takes two variables, each containing a string, and prints out the one with the smallest length. \n"
   ]
  },
  {
   "cell_type": "code",
   "execution_count": null,
   "metadata": {},
   "outputs": [],
   "source": [
    "## Answer here"
   ]
  },
  {
   "cell_type": "markdown",
   "metadata": {},
   "source": [
    "### String Methods\n",
    "\n",
    "Functions can also return **belong to objects**. So rather than just calling them with their name, we call them with a **specific object**.\n",
    "\n",
    "For example, we call the function ``lower()`` from the string ``\"SHOUTING\"`` using the ``.`` notation. This functions returns a lower case version of the **string it was called on**. \n",
    "\n",
    "Take a look at the two versions below. Because the ``lower()`` function doesnt **change** the string, but **returns a new version** that is changed, when we ``print(a)`` in the top code, we get the lower case string. However, this doesnt happen in the second version. Can you see why?"
   ]
  },
  {
   "cell_type": "code",
   "execution_count": 15,
   "metadata": {},
   "outputs": [
    {
     "name": "stdout",
     "output_type": "stream",
     "text": [
      "shouting\n"
     ]
    }
   ],
   "source": [
    "a = \"SHOUTING\"\n",
    "##overwrite the variable with the result \n",
    "a = a.lower()\n",
    "print(a)"
   ]
  },
  {
   "cell_type": "code",
   "execution_count": 16,
   "metadata": {},
   "outputs": [
    {
     "name": "stdout",
     "output_type": "stream",
     "text": [
      "SHOUTING\n"
     ]
    }
   ],
   "source": [
    "a = \"SHOUTING\"\n",
    "#here we dont overwrite the variable with the result, a is still LOUD \n",
    "a.lower()\n",
    "print(a)"
   ]
  },
  {
   "cell_type": "markdown",
   "metadata": {},
   "source": [
    "### Task - 2\n",
    "\n",
    "1. Using the ``.upper()``, write some code that takes a given variable and stores the uppercase version of it in a **different variable**. It should then print out both, stating that the upper case one is the rude version e.g. \n",
    "\n",
    "``\n",
    "\"GET ME SOME CHEESE is the rude way to say get me some cheese\"\n",
    "``"
   ]
  },
  {
   "cell_type": "code",
   "execution_count": null,
   "metadata": {},
   "outputs": [],
   "source": [
    "#If statements "
   ]
  },
  {
   "cell_type": "code",
   "execution_count": null,
   "metadata": {},
   "outputs": [],
   "source": []
  },
  {
   "cell_type": "code",
   "execution_count": null,
   "metadata": {},
   "outputs": [],
   "source": [
    "#Lists"
   ]
  },
  {
   "cell_type": "code",
   "execution_count": null,
   "metadata": {},
   "outputs": [],
   "source": [
    "#For Loops"
   ]
  }
 ],
 "metadata": {
  "kernelspec": {
   "display_name": "Python 3",
   "language": "python",
   "name": "python3"
  },
  "language_info": {
   "codemirror_mode": {
    "name": "ipython",
    "version": 3
   },
   "file_extension": ".py",
   "mimetype": "text/x-python",
   "name": "python",
   "nbconvert_exporter": "python",
   "pygments_lexer": "ipython3",
   "version": "3.8.5"
  }
 },
 "nbformat": 4,
 "nbformat_minor": 4
}
