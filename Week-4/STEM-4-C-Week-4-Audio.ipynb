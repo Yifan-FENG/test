{
 "cells": [
  {
   "cell_type": "code",
   "execution_count": null,
   "metadata": {},
   "outputs": [],
   "source": [
    "import librosa\n",
    "import librosa.display\n",
    "import numpy as np\n",
    "import matplotlib.pyplot as plt\n",
    "import IPython.display as ipd\n",
    "import soundfile as sf"
   ]
  },
  {
   "cell_type": "markdown",
   "metadata": {},
   "source": [
    "# STEM for Creatives Week 4 - Audio\n",
    "\n",
    "This week we will see how audio is represented on computers, how the properties of waveforms effect our perception of sound and how we can extract information from audio that will be useful in science (and data science) tasks. \n",
    "\n",
    "### Functions in Python \n",
    "\n",
    "Functions are great ways of encapsulating bits of code we want to reuse. \n",
    "\n",
    "We can think of this similarly to the way we use ``variables``, but instead of **storing a value or object** in a given place with a given name, we can store a **piece of code** in a given place with a given name.\n",
    "\n",
    "We can also give the function **arguments** that will customise the behaviour each time we call it. These are named in brackets after the name of the function. We then put in the `:` and like with **for loops**, everything that is indented after this is part of the function.\n",
    "\n",
    "Functions can also return values, for example, an array containing a sine wave! We just use the ```return``` keyword, and this acts as a break to method so things don't happen after you have returned. \n",
    "\n",
    "Functions don't have to return anything"
   ]
  },
  {
   "cell_type": "code",
   "execution_count": null,
   "metadata": {},
   "outputs": [],
   "source": [
    "#Define the function first\n",
    "def add(num1, num2):\n",
    "    print(\"inside the function\")\n",
    "    return num1 + num2\n",
    "\n",
    "print(\"outside the function\")    \n",
    "\n",
    "#Then use it\n",
    "a = add(2, 4)\n",
    "print(a)\n",
    "a = add(2, 10)\n",
    "print(a)\n",
    "a = add(20, 400)\n",
    "print(a)"
   ]
  },
  {
   "cell_type": "markdown",
   "metadata": {},
   "source": [
    "#### Arguments \n",
    "The function above has two arguments, we give both arguments (num1 and num2) when we call the function. If we don't Python will complain. Python knows which argument we meant for each number because of the order we passed them (num1 first, num2 second).\n",
    "\n",
    "However, sometimes arguments can be **optional**, and if we want this to be the case, we have to provide a default value which will be used. We can also have **named** arguments, if we want to specify which argument we are setting by name, not by order "
   ]
  },
  {
   "cell_type": "code",
   "execution_count": null,
   "metadata": {},
   "outputs": [],
   "source": [
    "#num1 is NOT optional, num2 and num3 have default values, they are optional\n",
    "def maths(num1, num2=0, num3=1):\n",
    "    print(\"(\" + str(num1) + \"+\" + str(num2) + \")*\" + str(num3))\n",
    "    return (num1 + num2) * num3\n",
    "\n",
    "#giving all arguments \n",
    "a = maths(2, 4, 3)\n",
    "print(a)\n",
    "\n",
    "#default value for num3\n",
    "a = maths(2, 4)\n",
    "print(a)\n",
    "\n",
    "#default value for num2 and num3\n",
    "a = maths(2)\n",
    "print(a)\n",
    "\n",
    "#default value for num2, num3 named\n",
    "a = maths(2, num3 = 30)\n",
    "print(a)"
   ]
  },
  {
   "cell_type": "markdown",
   "metadata": {},
   "source": [
    "### Sine Waves\n",
    "\n",
    "Below we see how the **frequency** and **amplitude** of a sine wave effect **pitch** and **volume**, and how **sample rates** fit into this in digital files."
   ]
  },
  {
   "cell_type": "code",
   "execution_count": null,
   "metadata": {},
   "outputs": [],
   "source": [
    "#Generate a sine wave at a given frequency and amplitude \n",
    "#amp, secs and sr have DEFAULT values, so if we dont give them when we call, it will use these instead\n",
    "def sine_wave(freq, amp=1, secs=5, sr=44100):\n",
    "    end = freq * secs * np.pi * 2\n",
    "    x = np.linspace(0, end, int(secs * sr))    \n",
    "    return np.sin(x) * amp\n",
    "\n",
    "#Display an audio signal + play\n",
    "#sr and xlim have DEFAULT values, so if we dont give them when we call, it will use these instead\n",
    "def show_audio(y, sr=44100, xlim=5000):\n",
    "    fig, ax = plt.subplots(figsize=(12,4))\n",
    "    ax.set_xlim(0,xlim)\n",
    "    ax.set_ylim(-1,1)\n",
    "    ax.plot(y)\n",
    "    return ipd.Audio(y, rate=sr, normalize=False, autoplay=True)"
   ]
  },
  {
   "cell_type": "code",
   "execution_count": null,
   "metadata": {},
   "outputs": [],
   "source": [
    "#What does np.linspace do? Remember you can always so ? for documentation \n",
    "?np.linspace"
   ]
  },
  {
   "cell_type": "code",
   "execution_count": null,
   "metadata": {},
   "outputs": [],
   "source": [
    "##and ?? for source code\n",
    "??np.linspace"
   ]
  },
  {
   "cell_type": "code",
   "execution_count": null,
   "metadata": {
    "scrolled": false
   },
   "outputs": [],
   "source": [
    "#Single sine wave at 440 (concert A)\n",
    "sr = 44100\n",
    "#first argument is frequency (not optional), second is named (sr)\n",
    "sig = sine_wave(440,sr=sr)\n",
    "print(\"we get \" + str(len(sig)) + \" samples for 5 seconds at 44100Hz\")\n",
    "show_audio(sig, sr)"
   ]
  },
  {
   "cell_type": "code",
   "execution_count": null,
   "metadata": {
    "scrolled": true
   },
   "outputs": [],
   "source": [
    "#Half frequency is an octave down\n",
    "sr = 44100\n",
    "sig = sine_wave(220,sr=sr)\n",
    "show_audio(sig, sr)"
   ]
  },
  {
   "cell_type": "code",
   "execution_count": null,
   "metadata": {},
   "outputs": [],
   "source": [
    "sig.shape"
   ]
  },
  {
   "cell_type": "code",
   "execution_count": null,
   "metadata": {},
   "outputs": [],
   "source": [
    "#Amplitude effects volume\n",
    "sr = 44100\n",
    "sig = sine_wave(440,sr=sr,amp=0.2)\n",
    "show_audio(sig, sr)"
   ]
  },
  {
   "cell_type": "code",
   "execution_count": null,
   "metadata": {},
   "outputs": [],
   "source": [
    "#Changing the sample rate of the generated audio doesnt really effect the outcome ->\n",
    "#(As long as we tell the player what we expect one sample of audio to represent timewise)\n",
    "sr = 44100 / 2\n",
    "sig = sine_wave(220,sr=sr)\n",
    "show_audio(sig, sr)"
   ]
  },
  {
   "cell_type": "code",
   "execution_count": null,
   "metadata": {},
   "outputs": [],
   "source": [
    "#Changing the sample rate of the player does\n",
    "sr = 44100\n",
    "sig = sine_wave(220,sr=sr)\n",
    "show_audio(sig, sr / 2)"
   ]
  },
  {
   "cell_type": "code",
   "execution_count": null,
   "metadata": {},
   "outputs": [],
   "source": [
    "##Adding two sine waves together\n",
    "sr = 44100\n",
    "sig = sine_wave(440,sr=sr,amp = 0.5)+sine_wave(440 * 2, sr=sr, amp = 0.5)\n",
    "show_audio(sig, sr)"
   ]
  },
  {
   "cell_type": "code",
   "execution_count": null,
   "metadata": {
    "scrolled": true
   },
   "outputs": [],
   "source": [
    "#Adding multiple harmonics\n",
    "#See how each harmonics is an integer ratio of the first harmonic (all acoustic sound is like this!)\n",
    "#Adding harmonics the perceived pitch stays the same, the timbre (quality of the sound) changes\n",
    "sr = int(44100)\n",
    "f0 = 110\n",
    "sig = sine_wave(f0, sr=sr)\n",
    "num_harmonics = 5\n",
    "harmonics = np.arange(2, num_harmonics) * f0\n",
    "print(harmonics)\n",
    "for h in harmonics:\n",
    "    #Make all amplitudes lower\n",
    "    sig = sig + sine_wave(h, sr=sr, amp = 1/num_harmonics)\n",
    "show_audio(sig*0.9, sr)"
   ]
  },
  {
   "cell_type": "markdown",
   "metadata": {},
   "source": [
    "### Librosa - Analysing Audio in Python\n",
    "\n",
    "### Loading Samples\n",
    "\n",
    "First, we're just going to use it to read in sound files, and maybe mess with their sample rates.\n",
    "\n",
    "Using ```librosa.load()```, we get the sample data back as an array, as well as the sample rate of the file.\n",
    "\n",
    "We'll then show you how you can manipulate the array and play it back and get some cool audio effects."
   ]
  },
  {
   "cell_type": "code",
   "execution_count": null,
   "metadata": {
    "scrolled": true
   },
   "outputs": [],
   "source": [
    "#Install he library\n",
    "!pip install librosa"
   ]
  },
  {
   "cell_type": "code",
   "execution_count": null,
   "metadata": {},
   "outputs": [],
   "source": [
    "#Loading in sample file, returns an array containing the samples, as the sample rate \n",
    "drums, sr = librosa.load('../audio/drums0.wav')"
   ]
  },
  {
   "cell_type": "code",
   "execution_count": null,
   "metadata": {},
   "outputs": [],
   "source": [
    "#How many samples? What sample rate? Unless you specify, librosa will automatically\n",
    "#convert you sample to 22050\n",
    "print(drums.shape, sr)\n",
    "#How many seconds is that?\n",
    "print(drums.shape[0] / sr)"
   ]
  },
  {
   "cell_type": "code",
   "execution_count": null,
   "metadata": {},
   "outputs": [],
   "source": [
    "def show_audio(y, sr=44100, normalise=True):\n",
    "    fig, ax = plt.subplots(figsize=(16,4))\n",
    "    ax.set_ylim(-1,1)\n",
    "    librosa.display.waveplot(y, sr=sr, ax=ax)\n",
    "    return ipd.Audio(y, rate=sr, normalize=normalise, autoplay=True)"
   ]
  },
  {
   "cell_type": "code",
   "execution_count": null,
   "metadata": {},
   "outputs": [],
   "source": [
    "#Play the samples\n",
    "show_audio(drums, sr)"
   ]
  },
  {
   "cell_type": "code",
   "execution_count": null,
   "metadata": {
    "scrolled": true
   },
   "outputs": [],
   "source": [
    "#We can change the volume\n",
    "#Multiply all the samples by 0.2\n",
    "sig = drums * 0.2\n",
    "show_audio(sig, sr, False)"
   ]
  },
  {
   "cell_type": "code",
   "execution_count": null,
   "metadata": {},
   "outputs": [],
   "source": [
    "#We can fade in\n",
    "#Multiply the samples array by another array containing a ramp from 0->1\n",
    "ramp = np.linspace(0,1,len(drums))\n",
    "sig = drums * ramp\n",
    "plt.plot(ramp)\n",
    "show_audio(sig, sr)"
   ]
  },
  {
   "cell_type": "code",
   "execution_count": null,
   "metadata": {},
   "outputs": [],
   "source": [
    "#We can play the sound backwards\n",
    "#Just reverse the array\n",
    "sig = np.flip(drums)\n",
    "show_audio(sig, sr)"
   ]
  },
  {
   "cell_type": "markdown",
   "metadata": {},
   "source": [
    "### Changing the playback rate \n",
    "\n",
    "GO TO SLIDES LOUIS"
   ]
  },
  {
   "cell_type": "code",
   "execution_count": null,
   "metadata": {
    "scrolled": true
   },
   "outputs": [],
   "source": [
    "#We can play at a different speed (lower sample rate = faster playback)\n",
    "#Also half the length\n",
    "sig = librosa.resample(drums, sr, sr/2)\n",
    "show_audio(sig, sr)"
   ]
  },
  {
   "cell_type": "code",
   "execution_count": null,
   "metadata": {},
   "outputs": [],
   "source": [
    "#We can play at a different speed (higher sample rate = slower playback)\n",
    "#Also, twice the length\n",
    "sig = librosa.resample(drums, sr, sr*2)\n",
    "show_audio(sig, sr)"
   ]
  },
  {
   "cell_type": "markdown",
   "metadata": {},
   "source": [
    "### Splicing \n",
    "\n",
    "We can replace values of an array with another array of the same size\n",
    "\n",
    "We use the `:` notation to say \"all of this row/column\"\n",
    "\n",
    "Or if used with another number **after** we say \"everything up til this index\"\n",
    "\n",
    "Or if used with another number **before** we say \"everything before this index\""
   ]
  },
  {
   "cell_type": "code",
   "execution_count": null,
   "metadata": {},
   "outputs": [],
   "source": [
    "a = np.ones(30).reshape(3,10)\n",
    "print(\"before \\n\",a)\n",
    "#Replace all values of second column with new array \n",
    "a[:,1] = np.arange(3)\n",
    "print(\"after \\n\", a)"
   ]
  },
  {
   "cell_type": "code",
   "execution_count": null,
   "metadata": {
    "scrolled": true
   },
   "outputs": [],
   "source": [
    "a = np.ones(30).reshape(3,10)\n",
    "print(\"before \\n\", a)\n",
    "#Replace all values of second row with new array \n",
    "a[1,:] = np.arange(10)\n",
    "print(\"after \\n\", a)"
   ]
  },
  {
   "cell_type": "code",
   "execution_count": null,
   "metadata": {
    "scrolled": true
   },
   "outputs": [],
   "source": [
    "a = np.ones(30).reshape(3,10)\n",
    "print(\"before \\n\",a)\n",
    "#Replace first 5 values of second row with new array \n",
    "a[1,0:5] = np.arange(5)\n",
    "print(\"after \\n\", a)"
   ]
  },
  {
   "cell_type": "code",
   "execution_count": null,
   "metadata": {},
   "outputs": [],
   "source": [
    "a = np.ones(30).reshape(3,10)\n",
    "print(\"before \\n\",a)\n",
    "#Replace last 5 values of second row with new array \n",
    "a[1,5:] = np.arange(5)\n",
    "print(\"after \\n\", a)"
   ]
  },
  {
   "cell_type": "code",
   "execution_count": null,
   "metadata": {},
   "outputs": [],
   "source": [
    "a = np.ones(30).reshape(3,10)\n",
    "print(\"before \\n\",a)\n",
    "#Take first 5 values of second row and multiply by 100, then put back into array\n",
    "a[1,:5] = a[1,:5]*100\n",
    "print(\"after \\n\", a)"
   ]
  },
  {
   "cell_type": "code",
   "execution_count": null,
   "metadata": {},
   "outputs": [],
   "source": [
    "a = np.ones(30).reshape(3,10)\n",
    "print(\"before \\n\",a)\n",
    "#Take last 5 values of second row and multiply by another array of the same size, then put back into array\n",
    "a[1,5:] = a[1,5:] * [1,4,8,16,32]\n",
    "print(\"after \\n\", a)"
   ]
  },
  {
   "cell_type": "code",
   "execution_count": null,
   "metadata": {},
   "outputs": [],
   "source": [
    "a = np.ones(30).reshape(3,10)\n",
    "print(\"before \\n\",a)\n",
    "#Take last 5 values of second row and multiply by another array of the same size, then put back into array\n",
    "b = [1,4,8,16,32]\n",
    "a[1,-len(b):] = a[1,-len(b):] * b\n",
    "print(\"after \\n\", a)"
   ]
  },
  {
   "cell_type": "markdown",
   "metadata": {},
   "source": [
    "### Once more, with feeling (and audio)\n",
    "\n",
    "We're going to start chopping up our sample and putting it back together. In order to do this its nice to have an idea of musical intervals. \n",
    "\n",
    "This drum beat is two bars, each consisting of 4 beats. We can work out these intervals in samples and then use this to chop up the drums!\n",
    "\n",
    "One important thing to remember is the new audio data we put in **must** be the same length as the slot we want to put it in."
   ]
  },
  {
   "cell_type": "code",
   "execution_count": null,
   "metadata": {},
   "outputs": [],
   "source": [
    "#All the indexes we use are in SAMPLES\n",
    "bar = len(drums)/2\n",
    "#4 beats in a bar\n",
    "beat = int(bar / 4)\n",
    "#for semi-quavers (sq) in a beat\n",
    "sq = int(beat / 4)\n",
    "bar, beat, sq"
   ]
  },
  {
   "cell_type": "code",
   "execution_count": null,
   "metadata": {},
   "outputs": [],
   "source": [
    "#take the drum roll that happens on the second beat. \n",
    "#Get audio data from beat*2 => beat*3 using the : sign\n",
    "drum_roll = drums[beat*2:beat*3]\n",
    "show_audio(drum_roll, sr)"
   ]
  },
  {
   "cell_type": "code",
   "execution_count": null,
   "metadata": {},
   "outputs": [],
   "source": [
    "#first take the whole drum break (MUST COPY)\n",
    "sig = drums.copy()\n",
    "#Overwrite new locations in original with the drum roll\n",
    "print(\"replacing \" + str((beat*2) - (beat*1)) + \" samples with \" + str(len(drum_roll)))\n",
    "sig[beat*1:beat*2] = drum_roll\n",
    "sig[beat*4:beat*5] = drum_roll\n",
    "sig[beat*6:beat*7] = drum_roll\n",
    "show_audio(sig, sr)"
   ]
  },
  {
   "cell_type": "code",
   "execution_count": null,
   "metadata": {},
   "outputs": [],
   "source": [
    "#first take the whole drum break (MUST COPY)\n",
    "sig = drums.copy()\n",
    "#reverse the last 2 beats\n",
    "#overwrite the 2 lasts beats worth of audio data with the reverse of it\n",
    "print(\"replacing \" + str((beat*8) - (beat*6)) + \" samples with \" + str((beat*8) - (beat*6)))\n",
    "sig[beat*6:beat*8] = np.flip(sig[beat*6:beat*8])\n",
    "show_audio(sig, sr)"
   ]
  },
  {
   "cell_type": "code",
   "execution_count": null,
   "metadata": {
    "scrolled": true
   },
   "outputs": [],
   "source": [
    "sig = drums.copy()\n",
    "#Get first half beat\n",
    "kick = drums[0:int(beat/2)]\n",
    "#Slow to half speed, which also makes it twice as long\n",
    "#Now a whole beat in length\n",
    "low_kick = librosa.resample(kick, sr, sr*2)\n",
    "print(\"replacing \" + str((beat*(0+1)) - (beat*0)) + \" samples with \" + str(len(low_kick)))\n",
    "for i in [0,2,4,6]:\n",
    "    #Overwrite low_kick audio data on every other beat\n",
    "    sig[beat*i:beat*(i+1)] = low_kick\n",
    "show_audio(sig, sr)"
   ]
  },
  {
   "cell_type": "markdown",
   "metadata": {},
   "source": [
    "### Multiple Samples\n",
    "\n",
    "We'll now introduce some more samples and show how we can **combine** as well as **overwrite**. "
   ]
  },
  {
   "cell_type": "code",
   "execution_count": null,
   "metadata": {},
   "outputs": [],
   "source": [
    "guitar, sr = librosa.load('../audio/guitar.wav')\n",
    "#guitar sample is twice as long so trim\n",
    "half_guitar = guitar[0:len(drums)]"
   ]
  },
  {
   "cell_type": "code",
   "execution_count": null,
   "metadata": {
    "scrolled": false
   },
   "outputs": [],
   "source": [
    "#Combine (using +) them together. NOT overwrite.\n",
    "sig = drums + half_guitar\n",
    "show_audio(sig, sr)"
   ]
  },
  {
   "cell_type": "markdown",
   "metadata": {},
   "source": [
    "### Multi Channel\n",
    "\n",
    "If we have a 2D array with two channels of audio, we can do stereo!"
   ]
  },
  {
   "cell_type": "code",
   "execution_count": null,
   "metadata": {},
   "outputs": [],
   "source": [
    "#Make an array with the two samples, one in each channel\n",
    "#drums on left [0], guitar on right [1]\n",
    "sig = np.array([drums,half_guitar])\n",
    "show_audio(sig, sr)"
   ]
  },
  {
   "cell_type": "code",
   "execution_count": null,
   "metadata": {},
   "outputs": [],
   "source": [
    "#Load in 8 drum breaks\n",
    "multi_drums = np.array([librosa.load('../audio/drums' + str(i) +'.wav')[0] for i in range(8)])\n",
    "print(multi_drums.shape)\n",
    "#Load in 2 drum vocal samples\n",
    "vocals = np.array([librosa.load('../audio/vocal' + str(i) +'.wav')[0] for i in range(2)])"
   ]
  },
  {
   "cell_type": "markdown",
   "metadata": {},
   "source": [
    "## Putting it all together for some #algorave goodness\n",
    "\n",
    "### Loops over time\n",
    "\n",
    "We are going to start stringing some of these changes together into a **sequence** to make a longer audio composition through collaging **audio data** from existing audio files. \n",
    "\n",
    "Starting from a blank array to hold our new composition, we will step through at **musically meaningful intervals** and at each point decide what **audio data to add in**. \n",
    "\n",
    "For example, we could write some code to take the first beat of **4 different drum samples** and chain them together.\n",
    "\n",
    "```\n",
    "#step 1\n",
    "my_track[0:beat] = multi_drums[0][0:beat]\n",
    "\n",
    "#step 2\n",
    "my_track[1*beat:beat*2] = multi_drums[1][0:beat]\n",
    "\n",
    "#step 3\n",
    "my_track[2*beat:beat*3] = multi_drums[2][0:beat]\n",
    "\n",
    "#step 4\n",
    "my_track[3*beat:] = multi_drums[3][0:beat]\n",
    "\n",
    "```\n",
    "\n",
    "However, if we want to do something over time and **not hand write new code every step**, we can use a control structure common in lots of coding, and especially useful in **time based media** \n",
    "\n",
    "* Audio\n",
    "\n",
    "\n",
    "* Video \n",
    "\n",
    "\n",
    "* Games \n",
    "\n",
    "\n",
    "### For Loops\n",
    "\n",
    "The code underneath dictates what repeated actions we do with ``i`` each time and **must** be indented with a tab, otherwise Python will complain. \n",
    "\n",
    "This can be a single line code, or multiple lines. Every line that is indented will be included in the loop and executed each time.\n",
    "\n",
    "`for i in array:\n",
    "    do_something_with_i \n",
    "#end of loop\n",
    "`\n",
    "    \n",
    "`for i in array:\n",
    "     do_something_with_i\n",
    "     do_something_else_with_i\n",
    "     do_another_thing\n",
    "#end of loop\n",
    "`  \n",
    "\n",
    "With this we can now write **one piece of code** that grabs some audio and places it in our **new track**, and get the ``for loop`` to execute this **multiple times**, each time **moving forwards** to a new position"
   ]
  },
  {
   "cell_type": "code",
   "execution_count": null,
   "metadata": {},
   "outputs": [],
   "source": [
    "multi_drums.shape"
   ]
  },
  {
   "cell_type": "code",
   "execution_count": null,
   "metadata": {},
   "outputs": [],
   "source": [
    "#Empty array with one channels, with enough space to hold 1 bars worth of audio samples\n",
    "num_beats = 8\n",
    "track_length = beat * num_beats\n",
    "#Start with silence (0's)\n",
    "my_track = np.zeros(track_length)\n",
    "for i in range(num_beats):\n",
    "    start = i * beat\n",
    "    end = (i+1) * beat\n",
    "    print(i, start, end)\n",
    "    #Use i to pick a new insert position, and new source drum beat\n",
    "    my_track[start:end] = multi_drums[i][0:beat]\n",
    "print(\"finished, playing track\")\n",
    "show_audio(my_track, sr)"
   ]
  },
  {
   "cell_type": "markdown",
   "metadata": {},
   "source": [
    "### Random Variation\n",
    "\n",
    "In the track above, on every iteration of the ``for-loop`` we make **3 compositional choices**\n",
    "\n",
    "\n",
    "1. Where to insert the audio into our blank new track\n",
    "\n",
    "\n",
    "2. Which source drum beat to take the audio from \n",
    "\n",
    "\n",
    "3. Where in the source drum beat to take the audio from \n",
    "\n",
    "\n",
    "The first one we take from the `i` variable. It makes sense to keep this as we are using the `for-loop` to represent time moving forwards. \n",
    "\n",
    "\n",
    "The second and third, we have hardcoded, but it can be interesting to instead pick a ``random value``.\n",
    "\n",
    "Now, **every iteration of the for loop** will chop a new drum beat a new place. We can make this go for as long as we want!"
   ]
  },
  {
   "cell_type": "code",
   "execution_count": null,
   "metadata": {},
   "outputs": [],
   "source": [
    "#Empty array with one channels, with enough space to hold 1 bars worth of audio samples\n",
    "num_beats = 8\n",
    "num_drums = len(multi_drums)\n",
    "track_length = beat * num_beats\n",
    "#Start with silence (0's)\n",
    "my_track = np.zeros(track_length)\n",
    "for i in range(num_beats):\n",
    "    start = i * beat\n",
    "    end = (i+1) * beat\n",
    "    #get random drum beat (8 drums to choose from)\n",
    "    source_drum = np.random.randint(num_drums)\n",
    "    #get random start point (4 beats to choose from)\n",
    "    source_drum_start = np.random.randint(4) * beat\n",
    "    source_drum_end = source_drum_start + beat\n",
    "    print(\"inserting from\", source_drum, source_drum_start, source_drum_end)\n",
    "    print(\"into\", i, start, end)\n",
    "    my_track[start:end] = multi_drums[source_drum][source_drum_start:source_drum_end]\n",
    "print(\"finished, playing track\")\n",
    "show_audio(my_track, sr)"
   ]
  },
  {
   "cell_type": "markdown",
   "metadata": {},
   "source": [
    "### (Pseudo) Random Numbers and Weighted Choices\n",
    "\n",
    "The random method we have used generates from a **uniform distribution**, meaning that there is an equal chance that any of the possible numbers will be generated. \n",
    "\n",
    "We can see below that when we generate 10000 numbers, then plot it on a histogram, each bar is approximately the same. \n",
    "\n",
    "This is why when we use it for making choices in algorithms, we can be fairly sure about probability of certain actions happening e.g. \n",
    "\n",
    "```\n",
    "#10% chance\n",
    "if np.random.rand() > 0.9:\n",
    "    do_something()\n",
    "```"
   ]
  },
  {
   "cell_type": "code",
   "execution_count": null,
   "metadata": {},
   "outputs": [],
   "source": [
    "##Histogram of uniformly distributed random floats\n",
    "a = plt.hist([np.random.rand() for i in range(10000)])"
   ]
  },
  {
   "cell_type": "markdown",
   "metadata": {},
   "source": [
    "### A stochastic composition\n",
    "\n",
    "Here we add use one `for-loop` with a bunch of different **probability based choices** inside. \n",
    "\n",
    "At each time step we some source audio, and some editting effects, and gradually build up our **generative composition**."
   ]
  },
  {
   "cell_type": "code",
   "execution_count": null,
   "metadata": {
    "scrolled": true
   },
   "outputs": [],
   "source": [
    "track_length = int(bar * 8)\n",
    "#Start with silence (0's)\n",
    "sig = np.array([np.zeros(track_length), np.zeros(track_length)])\n",
    "\n",
    "#Length of each chop (smaller number is more frequent chops)\n",
    "chop = 1/8\n",
    "chop_size = int(len(multi_drums[0]) * chop)\n",
    "n = int(track_length/chop_size)\n",
    "#Pick a random drum break and location\n",
    "drum_index = np.random.randint(len(multi_drums))\n",
    "chop_at = np.random.randint(1/chop)*chop_size\n",
    "\n",
    "\n",
    "for i in range(n):\n",
    "    \n",
    "    #65% chance of picking new drums\n",
    "    if np.random.rand() > 0.35:\n",
    "        #Pick a random drum break and location\n",
    "        drum_index = np.random.randint(len(multi_drums))\n",
    "        chop_at = np.random.randint(1/chop)*chop_size\n",
    "        \n",
    "    #Get a section of that drum break\n",
    "    new_drums = multi_drums[drum_index, chop_at:chop_at+chop_size]\n",
    "    \n",
    "    #10% chance of reversing\n",
    "    if np.random.rand() > 0.9:\n",
    "        new_drums = np.flip(new_drums)\n",
    "        \n",
    "    #10% chance of speeding up\n",
    "    if np.random.rand() > 0.9:\n",
    "        #twice the pitch, half the length\n",
    "        new_drums = librosa.resample(new_drums, sr, sr/2)\n",
    "        \n",
    "    #10% chance of slowing down up\n",
    "    if np.random.rand() > 0.9:\n",
    "        #half the pitch, twice the length\n",
    "        new_drums = librosa.resample(new_drums, sr, sr*2)\n",
    "        new_drums = new_drums[0:chop_size]\n",
    "        \n",
    "    #Pick channel\n",
    "    chan = np.random.randint(2)\n",
    "    \n",
    "    #Overwrite with new drums\n",
    "    start = i*chop_size\n",
    "    end = start + len(new_drums)\n",
    "    sig[chan,start:end] = new_drums\n",
    "\n",
    "##Add vocals    \n",
    "for i in range(n):\n",
    "    #10% chance of adding in vocal sample\n",
    "    if np.random.rand() > 0.9:\n",
    "        #Pick a sample\n",
    "        vox = vocals[np.random.randint(len(vocals))]\n",
    "        start = i*chop_size\n",
    "        end = start+len(vox)\n",
    "        #Make sure we dont go off the end\n",
    "        if end < len(sig[0]):\n",
    "            #Pick channel\n",
    "            chan = np.random.randint(2)\n",
    "            #Adding (not overwrite)\n",
    "            sig[chan,start:end] = sig[chan][start:end] + vox\n",
    "\n",
    "#Add the guitar at the end (not overwrite)\n",
    "#Slice the audio from the end back to the length of the guitar, then add guitar audio and put back\n",
    "#We add to both channels using the : and broadcasting (more on that next week)\n",
    "sig[:,-len(guitar):] = sig[:,-len(guitar):] + guitar    \n",
    "show_audio(sig, sr)"
   ]
  },
  {
   "cell_type": "markdown",
   "metadata": {},
   "source": [
    "## Audio Features\n",
    "\n",
    "Librosa is a library used for analysing audio in Python. In its raw form and just loads of samples, audio is not particularly useful for conducting experiments or building machine learning systems. \n",
    "\n",
    "- What different frequencies are present?\n",
    "- What are the timbral qualities of the sound?\n",
    "- Where are the main percussive events?\n",
    "- Whats the tempo?\n",
    "- Where are the beats?\n",
    "- What instruments are playing?\n",
    "\n",
    "Librosa is what will tell us these things.\n",
    "\n",
    "We begin with the humble FFT.  We usually calculate audio features things over small, overlapping windows and end up with more informative data about the audio, in smaller amounts (40 things per second, rather 44100).\n",
    "\n",
    "Doing the incredibly useful job of telling what spectral content is present in a given sound, the Fast Fourier Transform is the foundation for large amounts of audio analysis. For a small window of time, we are able to get the strength of different frequencies present between various ranges, or bins. \n",
    "\n",
    "The number of bins we get, and how much frequency they each cover, is a factor of the size of the window we analyse. As such, we must make a choice between resolution in the time domain (smaller windows allow us to spot shorter changes in the input signal), and resolution in the frequency domain (smaller bands allow us to be more specific about which frequencies are present). "
   ]
  },
  {
   "cell_type": "code",
   "execution_count": null,
   "metadata": {},
   "outputs": [],
   "source": [
    "from IPython.display import Image\n",
    "Image(filename='images/fft.png') "
   ]
  },
  {
   "cell_type": "code",
   "execution_count": null,
   "metadata": {},
   "outputs": [],
   "source": [
    "?librosa.stft"
   ]
  },
  {
   "cell_type": "code",
   "execution_count": null,
   "metadata": {},
   "outputs": [],
   "source": [
    "def show_audio(y, sr=44100, fft_size = 2048):\n",
    "    fig, ax = plt.subplots(ncols=2,figsize=(16,4))\n",
    "    #Show waveform\n",
    "    librosa.display.waveplot(y, sr=sr, ax=ax[0])\n",
    "    #Get FFT\n",
    "    S = np.abs(librosa.stft(y,fft_size))\n",
    "    #Show FFT\n",
    "    librosa.display.specshow(librosa.amplitude_to_db(S,ref=np.max),y_axis='log', x_axis='time', ax=ax[1])\n",
    "    return ipd.Audio(y, rate=sr, autoplay=True)"
   ]
  },
  {
   "cell_type": "code",
   "execution_count": null,
   "metadata": {
    "scrolled": true
   },
   "outputs": [],
   "source": [
    "#Note the logarithmic scale in the y axis\n",
    "y, sr = librosa.load('audio/soul_piano.wav')\n",
    "show_audio(y, sr)"
   ]
  },
  {
   "cell_type": "code",
   "execution_count": null,
   "metadata": {},
   "outputs": [],
   "source": [
    "y, sr = librosa.load('audio/vocal1.wav')\n",
    "show_audio(y, sr)"
   ]
  },
  {
   "cell_type": "code",
   "execution_count": null,
   "metadata": {},
   "outputs": [],
   "source": [
    "#low frequency resolution, high time resolution\n",
    "show_audio(y, sr, 256)"
   ]
  },
  {
   "cell_type": "code",
   "execution_count": null,
   "metadata": {},
   "outputs": [],
   "source": [
    "#high frequency resolution, low time resolution\n",
    "show_audio(y, sr, 2048*4)"
   ]
  },
  {
   "cell_type": "markdown",
   "metadata": {},
   "source": [
    "### Getting musical information \n",
    "\n",
    "If what we are examining is music, which it may well be because that's what we creative types are like, there are a whole set of descriptors available to us concerning its various musicological or perceptual qualities. \n",
    "\n",
    "Often these take the output of an initial preprocessing step (like the FFT) and then apply ideas of musical theory to calculate new features. The hierarchical structure of much Western music means these features can also build from one another. Onsets may lead into beats, which may lead into ideas of bar lines and tempos. Analysis of pitches may then lead into identification of chords and keys. \n",
    "\n",
    "\n",
    "We can use Librosa to get loads of different musical data about an audio file. \n",
    "\n",
    "Here we see how we can get the tempo and beats for a given track. We have superimposed the beats that librosa thinks the beats are in this track. Its works reasonably well for this example, but not necessarily for all music. "
   ]
  },
  {
   "cell_type": "code",
   "execution_count": null,
   "metadata": {},
   "outputs": [],
   "source": [
    "# Sonify detected beat events\n",
    "y, sr = librosa.load(librosa.ex('choice'), duration=10)\n",
    "tempo, beats = librosa.beat.beat_track(y=y, sr=sr)\n",
    "y_beats = librosa.clicks(frames=beats, sr=sr, length = len(y))\n",
    "show_audio(y + y_beats, sr)"
   ]
  },
  {
   "cell_type": "code",
   "execution_count": null,
   "metadata": {},
   "outputs": [],
   "source": []
  }
 ],
 "metadata": {
  "kernelspec": {
   "display_name": "Python 3",
   "language": "python",
   "name": "python3"
  },
  "language_info": {
   "codemirror_mode": {
    "name": "ipython",
    "version": 3
   },
   "file_extension": ".py",
   "mimetype": "text/x-python",
   "name": "python",
   "nbconvert_exporter": "python",
   "pygments_lexer": "ipython3",
   "version": "3.8.5"
  }
 },
 "nbformat": 4,
 "nbformat_minor": 4
}
