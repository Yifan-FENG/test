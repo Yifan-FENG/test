{
 "cells": [
  {
   "cell_type": "markdown",
   "metadata": {},
   "source": [
    "# Week 4 Audio Tasks"
   ]
  },
  {
   "cell_type": "code",
   "execution_count": null,
   "metadata": {},
   "outputs": [],
   "source": [
    "#Import and define function\n",
    "import librosa\n",
    "import librosa.display\n",
    "import numpy as np\n",
    "import matplotlib.pyplot as plt\n",
    "import IPython.display as ipd\n",
    "import soundfile as sf\n",
    "\n",
    "def show_audio(y, sr=22050, normalise=True):\n",
    "    fig, ax = plt.subplots(figsize=(16,4))\n",
    "    ax.set_ylim(-1,1)\n",
    "    librosa.display.waveplot(np.array(y), sr=sr, ax=ax)\n",
    "    return ipd.Audio(y, rate=sr, normalize=normalise, autoplay=True)"
   ]
  },
  {
   "cell_type": "markdown",
   "metadata": {},
   "source": [
    "## Slicing Audio"
   ]
  },
  {
   "cell_type": "markdown",
   "metadata": {},
   "source": [
    "1. Take audio data loaded into `audio1` and `audio2` and a **new audio file** that has `audio1` in the left channel and `audio2` in the right. They are **different lengths**, so you will need to come up with a solution!"
   ]
  },
  {
   "cell_type": "code",
   "execution_count": null,
   "metadata": {},
   "outputs": [],
   "source": [
    "audio1 = librosa.load('../audio/gospel1.wav')[0]\n",
    "audio2 = librosa.load('../audio/gospel2.wav')[0]\n",
    "print(len(audio1), len(audio2))\n",
    "\n",
    "#Your code here\n",
    "output_file = []\n",
    "\n",
    "show_audio(output_file)"
   ]
  },
  {
   "cell_type": "markdown",
   "metadata": {},
   "source": [
    "2. Given the following sample, use a `for loop` that creates a new audio file `output_file`. This should contain the first and third quarters of `drums` in the left channel (channel 0) and the second and fourth quarters in the right channel (channel 1)"
   ]
  },
  {
   "cell_type": "code",
   "execution_count": null,
   "metadata": {},
   "outputs": [],
   "source": [
    "drums, sr = librosa.load('../audio/drums0.wav')\n",
    "output_file = [np.zeros(len(drums)), np.zeros(len(drums))]\n",
    "\n",
    "#your code here\n",
    "show_audio(output_file)"
   ]
  },
  {
   "cell_type": "markdown",
   "metadata": {},
   "source": [
    "3. **Building a sequencer**\n",
    "\n",
    "Given this audio file, write some code which takes an array of 8 numbers saved in the variable `sequence`. Each item in this list represents a time step in a musical score.\n",
    "\n",
    "Given that each time step represents an equal proportion of the `output_file`, use a `for loop` and an `if statement` to iterate through this array and insert the a copy of that sample into the `output_file` **if** the value in the `sequence` is greater than 0. "
   ]
  },
  {
   "cell_type": "code",
   "execution_count": null,
   "metadata": {},
   "outputs": [],
   "source": [
    "bass_drum, sr = librosa.load('../audio/kick1.wav')\n",
    "output_file_size = 44100 * 4\n",
    "output_file = np.zeros(output_file_size)\n",
    "sequence = [1,0,0,0,1,0,1,0,0]\n",
    "\n",
    "#your code here\n",
    "\n",
    "show_audio(output_file)"
   ]
  },
  {
   "cell_type": "markdown",
   "metadata": {},
   "source": [
    "4. **Building a multi sample sequencer**\n",
    "\n",
    "Given this array of 3 samples (stored in the variable `samples`, edit your sequencer code from Step 3 so that sample copied at a given time slot is related to the **number in the sequence**\n",
    "\n",
    "For example\n",
    "\n",
    "* If there is a 0, insert nothing\n",
    "\n",
    "\n",
    "* If there is a 1, insert the first sample\n",
    "\n",
    "\n",
    "* If there is a 2, insert the second sample\n",
    "\n",
    "\n",
    "* If there is a 3, insert the third sample"
   ]
  },
  {
   "cell_type": "code",
   "execution_count": null,
   "metadata": {},
   "outputs": [],
   "source": [
    "file_paths = [\n",
    "    '../audio/kick1.wav', '../audio/hat1.wav', '../audio/snare1.wav'\n",
    "]\n",
    "samples = [librosa.load(i)[0] for i in file_paths]\n",
    "output_file_size = 44100 * 4\n",
    "output_file = np.zeros(output_file_size)\n",
    "sequence = [1,0,3,2,1,2,3,1,0]\n",
    "\n",
    "#your code here\n",
    "\n",
    "show_audio(output_file)"
   ]
  },
  {
   "cell_type": "markdown",
   "metadata": {},
   "source": [
    "5. How would you change the speed of the sequence playback? Would your code work for sequences of different length?"
   ]
  },
  {
   "cell_type": "markdown",
   "metadata": {},
   "source": [
    "6. Building an effects sequencer\n",
    "\n",
    "Given this drum sample, use a similar `for loop` sequencer set up so that when the value is greater than zero in the score, that slice of the sound file is overwritten with a **reversed version of itself**\n"
   ]
  },
  {
   "cell_type": "code",
   "execution_count": null,
   "metadata": {},
   "outputs": [],
   "source": [
    "drums, sr = librosa.load('../audio/drums5.wav')\n",
    "output_file = np.zeros(len(drums))\n",
    "sequence = [1,0,0,0,1,0,1,0,0]\n",
    "\n",
    "#your code here\n",
    "\n",
    "show_audio(output_file)"
   ]
  },
  {
   "cell_type": "markdown",
   "metadata": {},
   "source": [
    "## Analysing music \n",
    "\n",
    "Work on these tasks in a group of 2 or more, we will discuss your findings at the end!\n",
    "\n",
    "### Task 1\n",
    "\n",
    "Try some of your own music in the beat tracker. What genres does it work for? What genres does it struggle with? Place your answers in the forum\n",
    "\n",
    "If you don't music files on your computer, there are places to find royalty free music online e.g. [Blue Dot Sesssions](https://www.sessions.blue/) or [Free Music Archive](https://freemusicarchive.org/curator/Creative_Commons)\n",
    "\n",
    "You can also try [Epidemic Sounds](https://player.epidemicsound.com/students/) as a student and get free music as long as you're not publishing it anywhere."
   ]
  },
  {
   "cell_type": "code",
   "execution_count": null,
   "metadata": {},
   "outputs": [],
   "source": [
    "### Add in your own audio files \n",
    "y, sr = librosa.load('../audio/drums2.wav')\n",
    "tempo, beats = librosa.beat.beat_track(y=y, sr=sr)\n",
    "y_beats = librosa.clicks(frames=beats, sr=sr, length = len(y))\n",
    "show_audio(y + y_beats, sr)"
   ]
  },
  {
   "cell_type": "markdown",
   "metadata": {},
   "source": [
    "\n",
    "### Task 2\n",
    "\n",
    "Think about this for the discussion at the end, what are some qualities of sound or music that you think machines would have trouble analysing? Place your answers in the forum"
   ]
  },
  {
   "cell_type": "code",
   "execution_count": null,
   "metadata": {},
   "outputs": [],
   "source": []
  }
 ],
 "metadata": {
  "kernelspec": {
   "display_name": "Python 3",
   "language": "python",
   "name": "python3"
  },
  "language_info": {
   "codemirror_mode": {
    "name": "ipython",
    "version": 3
   },
   "file_extension": ".py",
   "mimetype": "text/x-python",
   "name": "python",
   "nbconvert_exporter": "python",
   "pygments_lexer": "ipython3",
   "version": "3.8.8"
  }
 },
 "nbformat": 4,
 "nbformat_minor": 4
}
