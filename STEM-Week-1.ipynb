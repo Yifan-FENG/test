{
 "cells": [
  {
   "cell_type": "markdown",
   "metadata": {},
   "source": [
    "#  STEM for Creatives - Week 1- Python and Jupyter Notebook Intro\n",
    "\n",
    "Notebooks a separated up into cells. Each cell can contain text in Markdown form (like this one), or Python code (See below)\n",
    "\n",
    "Each cell can be run in turn using “Shift + Enter” \n",
    "\n",
    "In a ``Python`` cell, you can include code that will be **executed**, and the output displayed underneath"
   ]
  },
  {
   "cell_type": "code",
   "execution_count": 8,
   "metadata": {},
   "outputs": [
    {
     "data": {
      "text/plain": [
       "'This is Python code'"
      ]
     },
     "execution_count": 8,
     "metadata": {},
     "output_type": "execute_result"
    }
   ],
   "source": [
    "\"This is Python code\""
   ]
  },
  {
   "cell_type": "markdown",
   "metadata": {},
   "source": [
    "### Comments ###\n",
    "\n",
    "You can also include text that **doesn't run** in ``Python`` cells, these are known as **comments** and are denoted with a ``#`` at the beginning of the line. "
   ]
  },
  {
   "cell_type": "code",
   "execution_count": 9,
   "metadata": {},
   "outputs": [],
   "source": [
    "#This isn't, its a comment!"
   ]
  },
  {
   "cell_type": "code",
   "execution_count": 10,
   "metadata": {},
   "outputs": [
    {
     "data": {
      "text/plain": [
       "'This is still Python Code'"
      ]
     },
     "execution_count": 10,
     "metadata": {},
     "output_type": "execute_result"
    }
   ],
   "source": [
    "#You can have both \n",
    "\"This is still Python Code\""
   ]
  },
  {
   "cell_type": "markdown",
   "metadata": {},
   "source": [
    "### Cell states and shortcuts\n",
    "\n",
    "There are two main states to be in \"Command mode\" (with the blue highlights) and \"Edit mode\" (with the green highlights). \n",
    "\n",
    "Broadly in Command mode we are editting the whole notebook, and in edit mode we are editting the insides of the cells\n",
    "\n",
    "Popular shortcuts in Command Mode are \n",
    "\n",
    "- A = add cell above\n",
    "- B = add cell below \n",
    "- X = delete cell\n",
    "- M = set cell to mark down \n",
    "- Y = set cell to code\n",
    "\n",
    "### Running Command Line Code in Notebooks\n",
    "\n",
    "First lets check which version of Python the notebook is using. We can evaluate anyting that we would in the Command Line in a notebook by putting a ```!``` first"
   ]
  },
  {
   "cell_type": "code",
   "execution_count": 11,
   "metadata": {},
   "outputs": [
    {
     "name": "stdout",
     "output_type": "stream",
     "text": [
      "/opt/anaconda3/bin/python\r\n"
     ]
    }
   ],
   "source": [
    "!which python"
   ]
  },
  {
   "cell_type": "markdown",
   "metadata": {},
   "source": [
    "## Printing\n",
    "\n",
    "Above, we saw that the last line of your cells was displayed underneath. For longer bits of code, we might want to display multiple things, and do it at various points in the code, and for this we use ``print()``\n"
   ]
  },
  {
   "cell_type": "code",
   "execution_count": 12,
   "metadata": {},
   "outputs": [
    {
     "name": "stdout",
     "output_type": "stream",
     "text": [
      "123\n",
      "7890\n"
     ]
    }
   ],
   "source": [
    "print(123)\n",
    "print(7890)"
   ]
  },
  {
   "cell_type": "markdown",
   "metadata": {},
   "source": [
    "## Numbers \n",
    "\n",
    "There are **two types of numbers** in Python. \n",
    "\n",
    "1. ``Int`` (short for integer). These are rounded numbers with **no decimal places**\n",
    "\n",
    "\n",
    "2. ``Float`` (not short for anything, thats it). You can use these if you need the precision of decimal places\n",
    "\n",
    "\n",
    "In most cases, Python will just work out whats best to use, but in some cases its necsesary to specify, **more on that later**\n",
    "\n",
    "\n",
    "### Maths\n",
    "\n",
    "You can do basic maths with numbers \n",
    "\n",
    "* Addition `+`\n",
    "\n",
    "* Subtraction `-`\n",
    "\n",
    "* Multiplication `*`\n",
    "\n",
    "* Division `/`"
   ]
  },
  {
   "cell_type": "code",
   "execution_count": 14,
   "metadata": {},
   "outputs": [
    {
     "name": "stdout",
     "output_type": "stream",
     "text": [
      "100\n",
      "100.0\n",
      "100\n",
      "100\n"
     ]
    }
   ],
   "source": [
    "print(34 + 66)\n",
    "print(1000 / 10)\n",
    "print(102 - 2)\n",
    "print(20 * 5)"
   ]
  },
  {
   "cell_type": "markdown",
   "metadata": {},
   "source": [
    "## Tasks - 1\n",
    "\n",
    "1. Write some code that prints out ``45`` then ``46`` underneath \n"
   ]
  },
  {
   "cell_type": "code",
   "execution_count": 16,
   "metadata": {},
   "outputs": [],
   "source": [
    "#Answers here\n"
   ]
  },
  {
   "cell_type": "markdown",
   "metadata": {},
   "source": [
    "2. Write some code that prints out `45 plus 46`"
   ]
  },
  {
   "cell_type": "code",
   "execution_count": null,
   "metadata": {},
   "outputs": [],
   "source": [
    "#Answers here"
   ]
  },
  {
   "cell_type": "markdown",
   "metadata": {},
   "source": [
    "3. Write some code that prints out `60 divided by 12`"
   ]
  },
  {
   "cell_type": "code",
   "execution_count": null,
   "metadata": {},
   "outputs": [],
   "source": [
    "#Answers here"
   ]
  },
  {
   "cell_type": "markdown",
   "metadata": {},
   "source": [
    "4. Write some code that prints out `3 squared`"
   ]
  },
  {
   "cell_type": "code",
   "execution_count": null,
   "metadata": {},
   "outputs": [],
   "source": [
    "#Answers here"
   ]
  },
  {
   "cell_type": "markdown",
   "metadata": {},
   "source": [
    "5. Write some code thats prints out `10 minus 4 times 6 plus 2`. What answer do you get? Is it what you expected?"
   ]
  },
  {
   "cell_type": "code",
   "execution_count": null,
   "metadata": {},
   "outputs": [],
   "source": [
    "#Answers here"
   ]
  },
  {
   "cell_type": "markdown",
   "metadata": {},
   "source": [
    "## Strings\n",
    "\n",
    "``Strings`` are used in Python to represent **text**. \n",
    "\n",
    "We tell Python that something is a ``string`` by surrounding it with quotation marks \n",
    "\n",
    "```\n",
    "\"This is a string\"\n",
    "\"singleword\"\n",
    "\"123456789 is using the number characters, but everything inside the quotes is still a string\"\n",
    "```\n",
    "\n",
    "### Concatenation \n",
    "\n",
    "Its a long word for a simple thing (welcome to coding!). \n",
    "\n",
    "This just means **joining strings together**. When we use `+` with numbers, it does a mathematical operation, when we use it with strings, it combines them!\n"
   ]
  },
  {
   "cell_type": "code",
   "execution_count": 17,
   "metadata": {},
   "outputs": [
    {
     "name": "stdout",
     "output_type": "stream",
     "text": [
      "hello world\n"
     ]
    }
   ],
   "source": [
    "print(\"hello \" + \"world\")"
   ]
  },
  {
   "cell_type": "markdown",
   "metadata": {},
   "source": [
    "## Variables \n",
    "\n",
    "A ``Variable`` is a place that we can use to store values (``strings`` or ``ints`` or ``floats``). \n",
    "\n",
    "We can then use them later and just use the **names of the variable**, and the code will interpret that as **the value stored inside it**.\n",
    "\n",
    "Once you have declared the variable, you can change the value in it. The code will interpret it as whatever is in the variable **at that particular time**.\n",
    "\n",
    "These values remain stored **throughout the notebook, across cells**."
   ]
  },
  {
   "cell_type": "code",
   "execution_count": 30,
   "metadata": {},
   "outputs": [
    {
     "name": "stdout",
     "output_type": "stream",
     "text": [
      "My favourite song is 1000 miles - Vanessa Carlton\n"
     ]
    }
   ],
   "source": [
    "#Storing a string in a variable valled `my_favourite_song`\n",
    "my_favourite_song = \"1000 miles - Vanessa Carlton\"\n",
    "\n",
    "#Storing a number in a variable valled `number_of_miles`\n",
    "number_of_miles = 1000\n",
    "\n",
    "print(\"My favourite song is \" + my_favourite_song)"
   ]
  },
  {
   "cell_type": "code",
   "execution_count": 31,
   "metadata": {},
   "outputs": [
    {
     "name": "stdout",
     "output_type": "stream",
     "text": [
      "If I listened to it 10 times, there would be this many miles\n",
      "10000\n"
     ]
    }
   ],
   "source": [
    "#Still remembers the variable in a different cell\n",
    "number_of_listens = 10\n",
    "print(\"If I listened to it \" + str(number_of_listens) + \" times, there would be this many miles\")\n",
    "print(number_of_miles * number_of_listens)"
   ]
  },
  {
   "cell_type": "code",
   "execution_count": 32,
   "metadata": {},
   "outputs": [
    {
     "name": "stdout",
     "output_type": "stream",
     "text": [
      "If I listened to it 3000 times, there would be this many miles\n",
      "3000000\n"
     ]
    }
   ],
   "source": [
    "#You can change the value stored in a variable \n",
    "number_of_listens = 3000\n",
    "print(\"If I listened to it \" + str(number_of_listens) + \" times, there would be this many miles\")\n",
    "print(number_of_miles * number_of_listens)"
   ]
  },
  {
   "cell_type": "markdown",
   "metadata": {},
   "source": [
    "## Tasks - 2\n",
    "\n",
    "1. Edit the code above to print out your favourite song\n"
   ]
  },
  {
   "cell_type": "code",
   "execution_count": 1,
   "metadata": {},
   "outputs": [],
   "source": [
    "#Answers here\n"
   ]
  },
  {
   "cell_type": "markdown",
   "metadata": {},
   "source": [
    "\n",
    "2. Write some new code to print out your favourite book. Its important to have sensible names so make sure you change the name of variable as well, not just the print text and value. \n"
   ]
  },
  {
   "cell_type": "code",
   "execution_count": 2,
   "metadata": {},
   "outputs": [],
   "source": [
    "#Answers here"
   ]
  },
  {
   "cell_type": "markdown",
   "metadata": {},
   "source": [
    "3. Write some code that makes two variables called ``height`` and ``width`` and stores a number in each. Then make a variable called ``area`` that stores ``height times width``. Then print out the `area`."
   ]
  },
  {
   "cell_type": "code",
   "execution_count": 3,
   "metadata": {},
   "outputs": [],
   "source": [
    "#Answers here"
   ]
  },
  {
   "cell_type": "markdown",
   "metadata": {},
   "source": [
    "\n",
    "4. Write some code that takes a variable containing your first name, and a variable containing your second name, and prints them out **on the same line**."
   ]
  },
  {
   "cell_type": "code",
   "execution_count": 4,
   "metadata": {},
   "outputs": [],
   "source": [
    "#Answers here"
   ]
  },
  {
   "cell_type": "markdown",
   "metadata": {},
   "source": [
    "## Importing Code\n",
    "\n",
    "There are tonnes of Python ``packages`` available to use that wrap up bits of code other people have written. This save us loads of time! \n",
    "\n",
    "Lots of packages come already installed with ``Anaconda``, but we can also install new ones from the internet. \n",
    "\n",
    "Here we use ``!`` to run code **as if it was in the command line**. We use the `pip` tool to install new Python packages, and here we install a package called ``librosa``, which is great for working with audio."
   ]
  },
  {
   "cell_type": "code",
   "execution_count": null,
   "metadata": {},
   "outputs": [],
   "source": [
    "#Run as command line code, install package\n",
    "!pip install librosa"
   ]
  },
  {
   "cell_type": "code",
   "execution_count": 3,
   "metadata": {},
   "outputs": [],
   "source": [
    "#import two packages \n",
    "import librosa\n",
    "from IPython.display import Audio "
   ]
  },
  {
   "cell_type": "code",
   "execution_count": 4,
   "metadata": {},
   "outputs": [
    {
     "data": {
      "text/html": [
       "\n",
       "                <audio  controls=\"controls\" autoplay=\"autoplay\">\n",
       "                    <source src=\"data:audio/wav;base64,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\" type=\"audio/wav\" />\n",
       "                    Your browser does not support the audio element.\n",
       "                </audio>\n",
       "              "
      ],
      "text/plain": [
       "<IPython.lib.display.Audio object>"
      ]
     },
     "execution_count": 4,
     "metadata": {},
     "output_type": "execute_result"
    }
   ],
   "source": [
    "#Set the file path for the audio, we have given it --relative-- to the notebook\n",
    "file_path = 'audio/soul_piano.wav'\n",
    "\n",
    "#Read audio file and make a player\n",
    "audio_data, rate = librosa.load(file_path)\n",
    "Audio(audio_data, rate=rate, autoplay=True)"
   ]
  },
  {
   "cell_type": "markdown",
   "metadata": {},
   "source": [
    "## Tasks - 3\n",
    "\n",
    "1. Find a new audio file on your computer and copy it into the ``audio/`` folder. Change the ``file_path`` variable to play it! \n",
    "\n",
    "\n",
    "2. The current `file_path` is given **relative** to the notebook. Can you change the ``file_path`` to play an audio file **somewhere else** on your computer? E.g. not in the ``audio/`` folder?\n",
    "\n",
    "\n",
    "**PRO TIP** If you want to get the file path of a file on MacOSX, just drag it into the ``Terminal`` (command line)"
   ]
  },
  {
   "cell_type": "code",
   "execution_count": null,
   "metadata": {},
   "outputs": [],
   "source": [
    "#Answers here"
   ]
  }
 ],
 "metadata": {
  "kernelspec": {
   "display_name": "Python 3",
   "language": "python",
   "name": "python3"
  },
  "language_info": {
   "codemirror_mode": {
    "name": "ipython",
    "version": 3
   },
   "file_extension": ".py",
   "mimetype": "text/x-python",
   "name": "python",
   "nbconvert_exporter": "python",
   "pygments_lexer": "ipython3",
   "version": "3.8.5"
  }
 },
 "nbformat": 4,
 "nbformat_minor": 4
}
