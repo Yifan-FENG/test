{
 "cells": [
  {
   "cell_type": "markdown",
   "metadata": {},
   "source": [
    "# Week 5 Images Task\n",
    "\n",
    "This week there is a more creative task to balance out other part, which is maths. \n",
    "\n",
    "## Image Task 2 Practising Image Editting\n",
    "\n",
    "A UAL students we have access to many [image libraries](https://arts.ac.libguides.com/az.php?t=13317)\n",
    "\n",
    "For these tasks, we're going to find some images, collage them together and also draw on them!"
   ]
  },
  {
   "cell_type": "code",
   "execution_count": null,
   "metadata": {},
   "outputs": [],
   "source": [
    "import numpy as np\n",
    "from PIL import Image"
   ]
  },
  {
   "cell_type": "markdown",
   "metadata": {},
   "source": [
    "1. Using the image libraries above (or google images)\n",
    "\n",
    "\n",
    "- Find two image files (one smaller than the other) and save them on your computer \n",
    "\n",
    "\n",
    "- Load them into arrays using `Image.open()`\n",
    "\n",
    "\n",
    "- Create a new image that is a composite of the two, with the smaller image in the **top left corner** of the larger image\n"
   ]
  },
  {
   "cell_type": "code",
   "execution_count": null,
   "metadata": {},
   "outputs": [],
   "source": [
    "#insert your filepaths\n",
    "filepath1 = \n",
    "filepath2 = \n",
    "image1 = np.array(Image.open(filepath1))\n",
    "image2 = np.array(Image.open(filepath2))"
   ]
  },
  {
   "cell_type": "code",
   "execution_count": null,
   "metadata": {},
   "outputs": [],
   "source": [
    "#Extract the width and height of image2, this will be useful when placing it later\n",
    "image2_width = \n",
    "image2_height = "
   ]
  },
  {
   "cell_type": "code",
   "execution_count": null,
   "metadata": {},
   "outputs": [],
   "source": [
    "#Calculate these points which determine where image2 will be inserted\n",
    "x_axis_start = \n",
    "x_axis_end = \n",
    "\n",
    "y_axis_start = \n",
    "y_axis_end = "
   ]
  },
  {
   "cell_type": "code",
   "execution_count": null,
   "metadata": {},
   "outputs": [],
   "source": [
    "#use coordinates above to copy image2 onto the top left of image1\n"
   ]
  },
  {
   "cell_type": "markdown",
   "metadata": {},
   "source": [
    "2. Using the image libraries above (or google images)\n",
    "\n",
    "\n",
    "- Find two image files (one smaller than the other) and save them on your computer \n",
    "\n",
    "\n",
    "- Load them into arrays using `Image.open()`\n",
    "\n",
    "\n",
    "- Create a new image that is a composite of the two, with the smaller image in the **centre** of the larger image. **Pro tip**: the coordinate of the top left corner of smaller image will be \n",
    "\n",
    "``\n",
    "x_coord = (image1_width - image2_width) / 2\n",
    "y_coord = (image1_height - image2_height) / 2\n",
    "``"
   ]
  },
  {
   "cell_type": "code",
   "execution_count": null,
   "metadata": {
    "scrolled": true
   },
   "outputs": [],
   "source": [
    "#insert your filepaths\n",
    "filepath1 = \n",
    "filepath2 = \n",
    "image1 = np.array(Image.open(filepath1))\n",
    "image2 = np.array(Image.open(filepath2))"
   ]
  },
  {
   "cell_type": "code",
   "execution_count": null,
   "metadata": {},
   "outputs": [],
   "source": [
    "#Extract the width and height of image1 and image2, this will be useful when placing it later\n",
    "image1_width = \n",
    "image1_height = \n",
    "\n",
    "image2_width = \n",
    "image2_height = "
   ]
  },
  {
   "cell_type": "code",
   "execution_count": null,
   "metadata": {},
   "outputs": [],
   "source": [
    "#Calculate these points which determine where image2 will be inserted\n",
    "x_axis_start = \n",
    "x_axis_end = \n",
    "\n",
    "y_axis_start = \n",
    "y_axis_end = \n"
   ]
  },
  {
   "cell_type": "code",
   "execution_count": null,
   "metadata": {},
   "outputs": [],
   "source": [
    "#use coordinates above to copy image2 onto the centre of image1\n"
   ]
  },
  {
   "cell_type": "markdown",
   "metadata": {},
   "source": [
    "3. Using the same two images and a `for loop`, write some code that overlays the smaller image at **10 random places** on the larger image"
   ]
  },
  {
   "cell_type": "code",
   "execution_count": null,
   "metadata": {},
   "outputs": [],
   "source": [
    "#insert your filepaths\n",
    "filepath1 = \n",
    "filepath2 = \n",
    "image1 = np.array(Image.open(filepath1))\n",
    "image2 = np.array(Image.open(filepath2))\n",
    "\n",
    "for i in range(10):\n",
    "\n",
    "    #Randomly generate a start point\n",
    "    x_axis_start = \n",
    "    y_axis_start = \n",
    "    \n",
    "    #Use the size of image2 to calculate the end point\n",
    "    x_axis_end = \n",
    "    y_axis_end = \n",
    "    \n",
    "    #use coordinates above to copy image2 onto the to random point in image1\n",
    "    \n",
    "    "
   ]
  },
  {
   "cell_type": "markdown",
   "metadata": {},
   "source": [
    "4. Use a `for-loop` to draw **10 equally spaced vertical lines** over one of your images. They can be **any colour you like**. They can also be any width, but its probably easiest to start with **1 pixel thickness**."
   ]
  },
  {
   "cell_type": "code",
   "execution_count": null,
   "metadata": {},
   "outputs": [],
   "source": [
    "#insert your filepaths\n",
    "filepath1 = \n",
    "image1 = np.array(Image.open(filepath1))\n",
    "\n",
    "image_width = \n",
    "\n",
    "for i in range(10):\n",
    "    \n",
    "    #Get coordinate of start of line using i and width of image\n",
    "    x_axis_start = \n",
    "    \n",
    "    #Use x_axis_start to select a whole column of pixels and overwrite with a single colour (e.g. black!)\n",
    "    \n",
    "    "
   ]
  },
  {
   "cell_type": "markdown",
   "metadata": {},
   "source": [
    "## Bonus Image Task - Making a Collage \n",
    "\n",
    "Take the techniques of \n",
    "\n",
    "- Copy Paste / Tiling \n",
    "- Blending \n",
    "- Splitting colours\n",
    "- Changing pixel values \n",
    "- Averaging \n",
    "\n",
    "And combine together a collage from a set of images. \n",
    "\n",
    "You can start with a background image as a background, or you can start with an empty image and fill up from there \n",
    "\n",
    "```\n",
    "background = np.zeros(h,w)\n",
    "```\n",
    "\n",
    "You can do it all in one cell, or have multiple cells to build up over time. \n",
    "\n",
    "You could also try introducing some generative aspects using **if statements and random numbers** or **for loops** like we did with the jungle track in the audio lecture. \n",
    "\n",
    "\n",
    "**Random colour picking**\n",
    "```\n",
    "w = 10\n",
    "h = 10\n",
    "for i in range(10):\n",
    "    #zero a random channel\n",
    "    colour = np.random.randint(3)\n",
    "    index = i*10\n",
    "    canvas[index:index+w,index:index+h, colour] = 0\n",
    "```\n",
    "\n",
    "**Stochastic chance of change**\n",
    "```\n",
    "w = 10\n",
    "h = 10\n",
    "for i in range(10):\n",
    "    #70% chance of adding image\n",
    "    if np.random.random > 0.3:\n",
    "        index = i*10\n",
    "        canvas[index:index+w,index:index+h] = image[:w,:h]\n",
    "```\n",
    "\n",
    "\n"
   ]
  },
  {
   "cell_type": "code",
   "execution_count": null,
   "metadata": {},
   "outputs": [],
   "source": [
    "#Make a blank 3-D canvas with the shape (512,512,3)\n",
    "background = np.ones((512,512, 3)).astype(np.uint8)\n",
    "\n",
    "#Set every row and every column with the pixel (255,255,255 (white))\n",
    "background[:,:] = (255,255,255)"
   ]
  },
  {
   "cell_type": "markdown",
   "metadata": {},
   "source": [
    "## Task 2 Practising Trigonometry \n",
    "\n",
    "Here are some maths questions to practise finding angles and lengths of sides using the **SOHCAHTOA** rules and right angled triangles. \n",
    "\n",
    "If you want a refresher of more trigonometry, you can try the [Khan Academy](https://www.khanacademy.org/math/trigonometry/trigonometry-right-triangles), its full of great Maths resources.\n",
    "\n",
    "You might want to use a pen and paper to help you when you rearrange the equations. Then, when you have isolated the unknown factor (**x** or **θ**), make use of `np.sin, np.arcsin, np.cos, np.arccos, np.tan, np.arctan` and calculate the answer in Python"
   ]
  },
  {
   "cell_type": "code",
   "execution_count": null,
   "metadata": {},
   "outputs": [],
   "source": [
    "from PIL import Image\n",
    "import numpy as np\n",
    "im = np.array(Image.open('images/trig_questions.png'))\n",
    "Image.fromarray(im)"
   ]
  },
  {
   "cell_type": "code",
   "execution_count": null,
   "metadata": {},
   "outputs": [],
   "source": []
  }
 ],
 "metadata": {
  "kernelspec": {
   "display_name": "Python 3",
   "language": "python",
   "name": "python3"
  },
  "language_info": {
   "codemirror_mode": {
    "name": "ipython",
    "version": 3
   },
   "file_extension": ".py",
   "mimetype": "text/x-python",
   "name": "python",
   "nbconvert_exporter": "python",
   "pygments_lexer": "ipython3",
   "version": "3.8.5"
  }
 },
 "nbformat": 4,
 "nbformat_minor": 4
}
