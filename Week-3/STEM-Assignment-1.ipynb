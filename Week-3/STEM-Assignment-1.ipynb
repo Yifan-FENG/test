{
 "cells": [
  {
   "cell_type": "markdown",
   "metadata": {},
   "source": [
    "# Assignment 1\n",
    "\n",
    "## Exploring data in Python\n",
    "\n",
    "For this assignment I have provided a portion of the data from the [Ingenium Canada Museum Collection](https://ingeniumcanada.org/centre/the-ingenium-research-institute) dataset. I've cleaned it up abit!\n",
    "\n",
    "The assignment asks you to explore the data and provide some analysis and visualisations. It will mostly ask you to use approaches to data analysis and access that we have seen before, but also may involve doing a bit of further research into libraries like NumPy and MatplotLib.\n",
    "\n",
    "Complete your answers in this Jupyter Notebook, highlighting which cell answers each question.\n",
    "\n",
    "I have provided some code to load in and format the dataset, run this once at the beginning!"
   ]
  },
  {
   "cell_type": "code",
   "execution_count": 11,
   "metadata": {},
   "outputs": [
    {
     "name": "stdout",
     "output_type": "stream",
     "text": [
      "Column names\n",
      "\n",
      "['artifactNumber' 'ObjectName' 'BeginDate' 'group1' 'category1' 'material'\n",
      " 'Length' 'Width' 'Height' 'image']\n",
      "\n",
      "Dataset Shape\n",
      "\n",
      "(6738, 10)\n"
     ]
    }
   ],
   "source": [
    "##Setup code to load in the dataset \n",
    "import numpy as np\n",
    "file = open('../data/museum_data_assignment-1.tsv')\n",
    "dataset = np.loadtxt(file, delimiter = \"\\t\",  dtype = 'O')\n",
    "headings = dataset[0]\n",
    "dataset = dataset[1:]\n",
    "dataset = np.array([x for x in dataset if not x[2] == \"Unknown\"])\n",
    "dataset[:,2] = [int(x) for x in dataset[:,2]]\n",
    "dataset[:,6] = [float(x[:-2]) for x in dataset[:,6]]\n",
    "dataset[:,7] = [float(x[:-2]) for x in dataset[:,7]]\n",
    "dataset[:,8] = [float(x[:-2]) for x in dataset[:,8]]\n",
    "print(\"Column names\\n\")\n",
    "print(headings)\n",
    "print(\"\\nDataset Shape\\n\")\n",
    "print(dataset.shape)"
   ]
  },
  {
   "cell_type": "markdown",
   "metadata": {},
   "source": [
    "### Question 1\n",
    "\n",
    "Using either ``sorted()`` or [`np.argmax()`](https://numpy.org/doc/stable/reference/generated/numpy.argmax.html?highlight=max#numpy.argmax), find and display the images for \n",
    "\n",
    "    - Longest\n",
    "    \n",
    "    - Widest \n",
    "    \n",
    "    - Tallest \n",
    "    \n",
    "items in the dataset\n",
    "\n",
    "**You will have to do some extra research to find out how to display images in a Jupyter notebook**"
   ]
  },
  {
   "cell_type": "code",
   "execution_count": null,
   "metadata": {},
   "outputs": [],
   "source": []
  },
  {
   "cell_type": "markdown",
   "metadata": {},
   "source": [
    "### Question 2\n",
    "\n",
    "Assuming the volume of an object is ``length x width x height``\n",
    "\n",
    "1. Create a new 1-D array containing the volumes of each object \n",
    "\n",
    "\n",
    "2. Plot a histogram of the volumes of the **Top 30% by volume** in the museum collection. Label the axes appropriately.\n",
    "\n"
   ]
  },
  {
   "cell_type": "code",
   "execution_count": null,
   "metadata": {},
   "outputs": [],
   "source": []
  },
  {
   "cell_type": "markdown",
   "metadata": {},
   "source": [
    "### Question 3 \n",
    "\n",
    "What is the most common category and group? What percentage of the total items to they each make up?\n",
    "\n",
    "**HINT** What kind of ``Average`` is ``most common`` another word for?"
   ]
  },
  {
   "cell_type": "code",
   "execution_count": null,
   "metadata": {},
   "outputs": [],
   "source": []
  },
  {
   "cell_type": "markdown",
   "metadata": {},
   "source": [
    "### Question 4\n",
    "\n",
    "1. Plot date of objects against volume from everything added to the collection since 1850. Pick sensible ticks and labels for the axes, as well as a sensible scale.\n",
    "\n",
    "Each item on the plot should have a different colour or symbol depending on its category as described by the ``group1`` heading .**EXTRA BONUS** If you can put in a legend mapping category to colour.\n",
    "\n",
    "**HINT** Try using `NumPy Filters` and multiple calls to ``ax.plot()`` to plot each group.\n",
    "\n",
    "2. Write a short paragraph describing what the plot tells us about the museums collection in relation to time, size and category. You can add some extra plots if you think it will help support any of your points. \n"
   ]
  },
  {
   "cell_type": "code",
   "execution_count": null,
   "metadata": {},
   "outputs": [],
   "source": []
  }
 ],
 "metadata": {
  "kernelspec": {
   "display_name": "Python 3",
   "language": "python",
   "name": "python3"
  },
  "language_info": {
   "codemirror_mode": {
    "name": "ipython",
    "version": 3
   },
   "file_extension": ".py",
   "mimetype": "text/x-python",
   "name": "python",
   "nbconvert_exporter": "python",
   "pygments_lexer": "ipython3",
   "version": "3.8.5"
  }
 },
 "nbformat": 4,
 "nbformat_minor": 4
}
