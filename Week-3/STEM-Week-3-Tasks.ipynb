{
 "cells": [
  {
   "cell_type": "code",
   "execution_count": 3,
   "metadata": {},
   "outputs": [],
   "source": [
    "import numpy as np\n",
    "import matplotlib.pyplot as plt"
   ]
  },
  {
   "cell_type": "markdown",
   "metadata": {},
   "source": [
    "### Task - Plotting lines\n",
    "\n",
    "Taking inspiration from the example we saw in the lecture (code below), plot these functions.\n",
    "\n",
    "```\n",
    "x = np.arange(10)\n",
    "y = x * 2\n",
    "plt.plot(x, y) \n",
    "\n",
    "```\n",
    "\n",
    "1. Can you plot a 45 degree diagonal line, starting at 0? Hint, this line has the formula y = x. [See image](http://www.developmaths.co.uk/jpeg/algebra/graphs/strLine/eg/ke.jpg)"
   ]
  },
  {
   "cell_type": "code",
   "execution_count": null,
   "metadata": {},
   "outputs": [],
   "source": [
    "#Your code here\n"
   ]
  },
  {
   "cell_type": "markdown",
   "metadata": {},
   "source": [
    "\n",
    "2. How about y = -x? This is a 45 degree line mirrored (top left -> bottom right). [See image](https://external-content.duckduckgo.com/iu/?u=https%3A%2F%2Ftse4.mm.bing.net%2Fth%3Fid%3DOIP.s62DJuVZOVD6DX6jC79FaQHaHL%26pid%3DApi&f=1)"
   ]
  },
  {
   "cell_type": "code",
   "execution_count": null,
   "metadata": {},
   "outputs": [],
   "source": [
    "#Your code here\n"
   ]
  },
  {
   "cell_type": "markdown",
   "metadata": {},
   "source": [
    "3. How about y = x * x (x squared). This should look like an upside down curve centered around 0. [See image](https://external-content.duckduckgo.com/iu/?u=http%3A%2F%2Fjwilson.coe.uga.edu%2Femt668%2FEMAT6680.2001%2FMorris%2Femat6700%2Fquadratic.gif&f=1&nofb=1). Think about how you might provide appropriate x values to get both sides of the curve, considering previously we have not had any **negative (less than 0) values** for x?"
   ]
  },
  {
   "cell_type": "code",
   "execution_count": null,
   "metadata": {},
   "outputs": [],
   "source": [
    "#Your code here\n"
   ]
  },
  {
   "cell_type": "markdown",
   "metadata": {},
   "source": [
    "4. **Bonus**: How about a sine wave? This will have the function y = sin(x) Hint: check out the method [np.sin](https://numpy.org/doc/stable/reference/generated/numpy.sin.html?highlight=sin#numpy.sin). [See image](https://content.bartleby.com/tbms-images/9781305071759/Chapter-5/images/71759-5.3-90e-question-digital_image001.png). \n",
    "\n",
    "Again, you may need to consider the x values you provide here, changing the call to `np.arange()` to consider the range and the number of values you generate.\n",
    "\n",
    "**HINT**:One cycle of the sin wave is 2 * PI long"
   ]
  },
  {
   "cell_type": "code",
   "execution_count": null,
   "metadata": {},
   "outputs": [],
   "source": [
    "#Your code here\n"
   ]
  },
  {
   "cell_type": "markdown",
   "metadata": {},
   "source": [
    "### Task - Working with Tabular Data\n",
    "\n",
    "We have the code below to load in the **This is my jam** dataset we used in the lecture. \n",
    "\n",
    "There are a series of tasks to help you practise working with extracting, editting and searching **2D data** in this format. "
   ]
  },
  {
   "cell_type": "code",
   "execution_count": 38,
   "metadata": {},
   "outputs": [],
   "source": [
    "file = open('../data/thisismyjam_top25k.tsv')\n",
    "#This data uses tabs to separate each point, not the usual commas. Can you think why?\n",
    "this_is_my_jam_dataset = np.loadtxt(file, delimiter = \"\\t\",  dtype = 'O')\n",
    "#Convert everything in the 5th column to an integer (number)\n",
    "this_is_my_jam_dataset[:,4] = this_is_my_jam_dataset[:,4].astype(int)"
   ]
  },
  {
   "cell_type": "markdown",
   "metadata": {},
   "source": [
    "Print the date of the 5001st song"
   ]
  },
  {
   "cell_type": "code",
   "execution_count": 39,
   "metadata": {},
   "outputs": [],
   "source": [
    "#Your code here\n"
   ]
  },
  {
   "cell_type": "markdown",
   "metadata": {},
   "source": [
    "Print the number of likes of the 23rd song"
   ]
  },
  {
   "cell_type": "code",
   "execution_count": 40,
   "metadata": {},
   "outputs": [],
   "source": [
    "#Your code here\n"
   ]
  },
  {
   "cell_type": "markdown",
   "metadata": {},
   "source": [
    "Extract the whole column that holds the artists and save it a new variable called `names`"
   ]
  },
  {
   "cell_type": "code",
   "execution_count": 41,
   "metadata": {},
   "outputs": [],
   "source": [
    "#Your code here\n"
   ]
  },
  {
   "cell_type": "markdown",
   "metadata": {},
   "source": [
    "Print the names of the all the tracks in the dataset written by The Smiths"
   ]
  },
  {
   "cell_type": "code",
   "execution_count": 42,
   "metadata": {},
   "outputs": [],
   "source": [
    "#Your code here\n"
   ]
  },
  {
   "cell_type": "markdown",
   "metadata": {},
   "source": [
    "Sort the collection alphabetically by song name"
   ]
  },
  {
   "cell_type": "code",
   "execution_count": 43,
   "metadata": {},
   "outputs": [],
   "source": [
    "#Your code here\n"
   ]
  },
  {
   "cell_type": "markdown",
   "metadata": {},
   "source": [
    "Given this sorted list, print 10 last tracks"
   ]
  },
  {
   "cell_type": "code",
   "execution_count": 44,
   "metadata": {},
   "outputs": [],
   "source": [
    "#Your code here\n"
   ]
  },
  {
   "cell_type": "markdown",
   "metadata": {},
   "source": [
    "Given this sorted list, print the first 14 tracks"
   ]
  },
  {
   "cell_type": "code",
   "execution_count": 45,
   "metadata": {},
   "outputs": [],
   "source": [
    "#Your code here\n"
   ]
  }
 ],
 "metadata": {
  "kernelspec": {
   "display_name": "Python 3",
   "language": "python",
   "name": "python3"
  },
  "language_info": {
   "codemirror_mode": {
    "name": "ipython",
    "version": 3
   },
   "file_extension": ".py",
   "mimetype": "text/x-python",
   "name": "python",
   "nbconvert_exporter": "python",
   "pygments_lexer": "ipython3",
   "version": "3.9.7"
  }
 },
 "nbformat": 4,
 "nbformat_minor": 4
}
