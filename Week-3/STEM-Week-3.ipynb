{
 "cells": [
  {
   "cell_type": "markdown",
   "metadata": {},
   "source": [
    "# STEM for Creatives Week 3 \n",
    "## Summarising Data\n",
    "\n",
    "When you first get a dataset, 99 out of 100 Data Scientists will \n",
    "\n",
    "\n",
    "1. Plot it \n",
    "\n",
    "\n",
    "2. Look at some summary stats. \n",
    "\n",
    "\n",
    "There are some cautionary tales about not plotting data from [this experiment](https://genomebiology.biomedcentral.com/articles/10.1186/s13059-020-02133-w), where students given a pre-conceived hypothesis were less likely to first plot the data, missing some interesting findings! \n",
    "\n",
    "Its a nod towards this even more [famous experiment](https://www.youtube.com/watch?v=vJG698U2Mvo)\n",
    "\n",
    "\n",
    "In this lab, we're going to continue to work on your Python, and introduce some basic maths concepts for examining datasets using the [NumPy](https://numpy.org/doc/stable/) library. \n",
    "\n",
    "If after this lab you still want to work out whats going on, this [absolute beginners guide](https://numpy.org/doc/stable/user/absolute_beginners.html?highlight=csv) is super useful if you at any point want to do any extra NumPy work.\n",
    "\n",
    "We have provided you with split of the [This Is My Jam](https://archive.org/details/thisismyjam-datadump) data dump. (Its not all of it because thats massive). We're going to use the Python libraries NumPy, and [Matplotlib](https://matplotlib.org/) to check it out. \n",
    "\n"
   ]
  },
  {
   "cell_type": "markdown",
   "metadata": {},
   "source": [
    "### Loading libraries \n",
    "Both NumPy and Matplotlib are included in your Anaconda installation, so no need to fetch them again. You can see whats included in Anaconda [here](https://docs.anaconda.com/anaconda/packages/pkg-docs/). Just to prove it we can run the code below. \n",
    "\n",
    "_Remember_, putting a `!` infront executes the code as if it was in the terminal, not as Python code. This shows which version of the library with have installed, and if it was installed via Anaconda. \n"
   ]
  },
  {
   "cell_type": "code",
   "execution_count": 2,
   "metadata": {},
   "outputs": [
    {
     "name": "stdout",
     "output_type": "stream",
     "text": [
      "# packages in environment at /opt/anaconda3:\n",
      "#\n",
      "# Name                    Version                   Build  Channel\n",
      "numpy                     1.19.5                   pypi_0    pypi\n",
      "numpydoc                  1.1.0              pyhd3eb1b0_1  \n"
     ]
    }
   ],
   "source": [
    "!conda list numpy"
   ]
  },
  {
   "cell_type": "code",
   "execution_count": 3,
   "metadata": {},
   "outputs": [
    {
     "name": "stdout",
     "output_type": "stream",
     "text": [
      "# packages in environment at /opt/anaconda3:\n",
      "#\n",
      "# Name                    Version                   Build  Channel\n",
      "matplotlib                3.3.2                         0  \n",
      "matplotlib-base           3.3.2            py38h181983e_0  \n"
     ]
    }
   ],
   "source": [
    "!conda list matplotlib"
   ]
  },
  {
   "cell_type": "markdown",
   "metadata": {},
   "source": [
    "If you **dont** have them installed, you can use \n",
    "\n",
    "```!conda install numpy``` and ```!conda install matplotlib```\n",
    "\n",
    "Even though the packages are installed on the computer, we need to tell the notebook that we are going to use them in this session. We do that using the ```import``` method. When we import the library, we can also give an _alias_. We normally do this to give the library a shorter name for ease when we're coding. The alias is designated using the ```as``` keyword. \n",
    "\n",
    "Below we are importing both the libraries, and giving them a shortened alias (``np`` for numpy, and the pyplot package from matplotlib as ``plt``)"
   ]
  },
  {
   "cell_type": "code",
   "execution_count": 2,
   "metadata": {},
   "outputs": [],
   "source": [
    "import matplotlib.pyplot as plt\n",
    "import numpy as np"
   ]
  },
  {
   "cell_type": "markdown",
   "metadata": {},
   "source": [
    "## Generating Data with ``NumPy``"
   ]
  },
  {
   "cell_type": "markdown",
   "metadata": {},
   "source": [
    "Until this point, we have been working with **Lists** that we have either hand written ourselves\n",
    "\n",
    "``\n",
    "top_buffy_seasons_sorted = [2,5,3,6,1,7,4]\n",
    "``\n",
    "\n",
    "Or loaded in from files \n",
    "\n",
    "``\n",
    "book_chapters = open('hacking.txt', 'r')\n",
    "``\n",
    "\n",
    "However, often when we are working with dataset, debugging code or plotting graphs its useful to **generate lists of numbers** based on some simple rules.\n",
    "\n",
    "For example\n",
    "\n",
    "\n",
    "* All the numbers from 0 - 100\n",
    "\n",
    "\n",
    "* Every fifth number from 0 - 100\n",
    "\n",
    "\n",
    "* 100 random numbers \n",
    "\n",
    "\n",
    "Sometimes we _even work with numbers beyond 100_. \n",
    "\n",
    "**NumPy** has lots of **functions** built in to allow us to do this. We're going to learn about 2 of them, and then use them to make some **plots**. \n",
    "\n",
    "\n",
    "### ``np.arange(start, end, step)``\n",
    "\n",
    "What we see here is first generating a equally spaced range of numbers using ```np.arange()```. Here we get the first 100 (0-99). \n"
   ]
  },
  {
   "cell_type": "code",
   "execution_count": 5,
   "metadata": {},
   "outputs": [
    {
     "name": "stdout",
     "output_type": "stream",
     "text": [
      "[ 0  1  2  3  4  5  6  7  8  9 10 11 12 13 14 15 16 17 18 19 20 21 22 23\n",
      " 24 25 26 27 28 29 30 31 32 33 34 35 36 37 38 39 40 41 42 43 44 45 46 47\n",
      " 48 49 50 51 52 53 54 55 56 57 58 59 60 61 62 63 64 65 66 67 68 69 70 71\n",
      " 72 73 74 75 76 77 78 79 80 81 82 83 84 85 86 87 88 89 90 91 92 93 94 95\n",
      " 96 97 98 99]\n"
     ]
    }
   ],
   "source": [
    "#Generate numbers 0-99\n",
    "x = np.arange(100)\n",
    "print(x)"
   ]
  },
  {
   "cell_type": "markdown",
   "metadata": {},
   "source": [
    "### ``np.random.randint(low, high, size)``\n",
    "\n",
    "We then use the ```np.random.randint``` function to generate 100 random numbers from 0 - 99. Run the code below a few times. \n",
    "\n",
    "1. Do the random numbers change every time?\n",
    "\n",
    "\n",
    "2. Are there duplicated numbers?"
   ]
  },
  {
   "cell_type": "code",
   "execution_count": 6,
   "metadata": {},
   "outputs": [
    {
     "name": "stdout",
     "output_type": "stream",
     "text": [
      "[81 33 44 16 50 32 61  3 97  1  8  1 65 22 48 93 65 20 19 76 25 17 16 76\n",
      " 11 19 32 65 39  3 15 34 32 39 60 13 34  0 61 55  4 44 48  7 95 95  9 95\n",
      " 97 91 68 98 30 86 11 57 39 61 18 49 61 91 12 85 16 58 91 15 34 35 73 56\n",
      " 79 49 76 26 17 81 51 50 91 13 76 83 31 72 95  6 99 17  8 38  9 94 45 16\n",
      " 42 56 66 58]\n"
     ]
    }
   ],
   "source": [
    "#Generate 100 random numbers in the range 0-99\n",
    "x = np.random.randint(0,100,100)\n",
    "print(x)"
   ]
  },
  {
   "cell_type": "markdown",
   "metadata": {},
   "source": [
    "## Plotting Data with `matplotlib.pyplot`\n",
    "\n",
    "### What data do we need to make a plot?\n",
    "\n",
    "At its simplest, a `plot` or `graph` has **2 axes**, each corresponding to a variables of a dataset. By plotting them against each other, we are able to learn something about the relationship between the variables. Each data point can be shown individually, or joined together in a line.\n",
    "\n",
    "Traditionally, the horizontal axis is known as the **x axis** and the vertical axis is known as the **y axis**.\n",
    "\n",
    "For example, we might want to see :\n",
    "\n",
    "\n",
    "- Time (`x`) against amplitude (`y`) for an audio file\n",
    "\n",
    "\n",
    "- Height (`x`) against weight (`y`) for a population \n",
    "\n",
    "\n",
    "- Temperature (`x`) against ice cream sales (`y`)\n",
    "\n",
    "\n",
    "\n",
    "### The Data\n",
    "\n",
    "Each data point that we want to plot should have **2 values**. As we've seen in Python, when storing the multiple data points, it makes sense to use a ``List``. \n",
    "\n",
    "The data structure we will use for the `matplotlib.pyplot` library is **two lists**, one for each axis. \n",
    "\n",
    "They should be the same length, with each data point having a corresponding variable in each array \n",
    "\n",
    "e.g \n",
    "\n",
    "``\n",
    "pt1 = (x[0], y[0])\n",
    "pt2 = (x[1], y[1])\n",
    "pt3 = (x[2], y[2])\n",
    ".....\n",
    "ptn = (x[n], y[n])\n",
    "``\n",
    "\n",
    "### `plt.plot(x, y, options) `\n",
    "\n",
    "The package `matplotlib.pyplot` has a function `plot()`. This takes the lists of the two values as its **first two arguments**. \n",
    "\n",
    "After this we can add in some **optional extra arguments** to specify other aspects of how the plot is displayed"
   ]
  },
  {
   "cell_type": "code",
   "execution_count": 7,
   "metadata": {},
   "outputs": [
    {
     "name": "stdout",
     "output_type": "stream",
     "text": [
      "x [  0  50 100 150 200 250 300 350 400 450 500 550 600 650 700 750 800 850\n",
      " 900 950]\n",
      "y [  0  10  20  30  40  50  60  70  80  90 100 110 120 130 140 150 160 170\n",
      " 180 190]\n"
     ]
    },
    {
     "data": {
      "text/plain": [
       "[<matplotlib.lines.Line2D at 0x1139f8e20>]"
      ]
     },
     "execution_count": 7,
     "metadata": {},
     "output_type": "execute_result"
    },
    {
     "data": {
      "image/png": "[encoded data removed]",
      "text/plain": [
       "<Figure size 432x288 with 1 Axes>"
      ]
     },
     "metadata": {
      "needs_background": "light"
     },
     "output_type": "display_data"
    }
   ],
   "source": [
    "x = np.arange(0, 1000, 50)\n",
    "y = np.arange(0, 200, 10)\n",
    "print(\"x\", x)\n",
    "print(\"y\", y)\n",
    "plt.plot(x, y) "
   ]
  },
  {
   "cell_type": "markdown",
   "metadata": {},
   "source": [
    "We can also do (r)ed d(o)ts "
   ]
  },
  {
   "cell_type": "code",
   "execution_count": 8,
   "metadata": {},
   "outputs": [
    {
     "name": "stdout",
     "output_type": "stream",
     "text": [
      "x [ 0  5 10 15 20 25 30 35 40 45 50 55 60 65 70 75 80 85 90 95]\n",
      "y [91 40 56  1 61 82 90 23 56 73 77 92 38 83 69 50 57 58  0 68]\n"
     ]
    },
    {
     "data": {
      "text/plain": [
       "[<matplotlib.lines.Line2D at 0x7fc8780ab760>]"
      ]
     },
     "execution_count": 8,
     "metadata": {},
     "output_type": "execute_result"
    },
    {
     "data": {
      "image/png": "[encoded data removed]",
      "text/plain": [
       "<Figure size 432x288 with 1 Axes>"
      ]
     },
     "metadata": {
      "needs_background": "light"
     },
     "output_type": "display_data"
    }
   ],
   "source": [
    "x = np.arange(0, 100, 5)\n",
    "y = np.random.randint(0, 100, len(x))\n",
    "print(\"x\", x)\n",
    "print(\"y\", y)\n",
    "plt.plot(x, y,'ro') "
   ]
  },
  {
   "cell_type": "markdown",
   "metadata": {},
   "source": [
    "Or (g)reen (x)s"
   ]
  },
  {
   "cell_type": "code",
   "execution_count": 9,
   "metadata": {},
   "outputs": [
    {
     "data": {
      "text/plain": [
       "[<matplotlib.lines.Line2D at 0x7fc8d8a69130>]"
      ]
     },
     "execution_count": 9,
     "metadata": {},
     "output_type": "execute_result"
    },
    {
     "data": {
      "image/png": "[encoded data removed]",
      "text/plain": [
       "<Figure size 432x288 with 1 Axes>"
      ]
     },
     "metadata": {
      "needs_background": "light"
     },
     "output_type": "display_data"
    }
   ],
   "source": [
    "plt.plot(x, y,'gx') "
   ]
  },
  {
   "cell_type": "markdown",
   "metadata": {},
   "source": [
    "### Line Functions\n",
    "\n",
    "When often define functions (which we can then plot as lines) in a format where we can take a value on the x axis, and use the function to determine the value on the y axis. For example\n",
    "\n",
    "```y = 2x```\n",
    "\n",
    "We would know that when `x = 2, y = 4` and when `x = 256, y = 512`, and so on. We can then plot these pairs as coordinates.\n"
   ]
  },
  {
   "cell_type": "code",
   "execution_count": 10,
   "metadata": {},
   "outputs": [
    {
     "data": {
      "text/plain": [
       "[<matplotlib.lines.Line2D at 0x7fc8c89f9ee0>]"
      ]
     },
     "execution_count": 10,
     "metadata": {},
     "output_type": "execute_result"
    },
    {
     "data": {
      "image/png": "[encoded data removed]",
      "text/plain": [
       "<Figure size 432x288 with 1 Axes>"
      ]
     },
     "metadata": {
      "needs_background": "light"
     },
     "output_type": "display_data"
    }
   ],
   "source": [
    "x = np.arange(10)\n",
    "y = x * 2\n",
    "plt.plot(x, y) "
   ]
  },
  {
   "cell_type": "markdown",
   "metadata": {},
   "source": [
    "### Doing maths with arrays\n",
    "\n",
    "Above we saw the line \n",
    "\n",
    "```\n",
    "y = x * 2\n",
    "```\n",
    "\n",
    "Previously we have only done maths with **single numbers**. Whats happening here?\n",
    "\n",
    "Once you have generated arrays using methods like ```np.arange``` and ```np.random.randint```, you can then alter then using simple maths notatation. If ```a``` is an array, when we say ```a = a + 1```, we would add one to **every** item in the array. When we say ```a = a * 2``` we would double **every** item in the array. \n",
    "\n",
    "This is something we'll end up doing alot, and doing it this way is **much cleaner** and **much more efficient** than using a ``for loop``"
   ]
  },
  {
   "cell_type": "code",
   "execution_count": 11,
   "metadata": {},
   "outputs": [
    {
     "name": "stdout",
     "output_type": "stream",
     "text": [
      "[0 1 2 3 4 5 6 7 8 9]\n",
      "[ 1  2  3  4  5  6  7  8  9 10]\n",
      "[-2 -1  0  1  2  3  4  5  6  7]\n",
      "[  0 100 200 300 400 500 600 700 800 900]\n"
     ]
    }
   ],
   "source": [
    "#Generate array of 0-9\n",
    "a = np.arange(10)\n",
    "print(a)\n",
    "#Add 1 to every value\n",
    "print(a + 1)\n",
    "#Subract 2 from every value\n",
    "print(a - 2)\n",
    "#Multiply every value by 100\n",
    "print(a * 100)"
   ]
  },
  {
   "cell_type": "markdown",
   "metadata": {},
   "source": [
    "# This Is My Jam\n",
    "\n",
    "So its hard find anything out about that random data because, well, its random. Now lets look at some actual data generated by acutal people using a now defunct music platform called _This Is My Jam_. I've done quite abit of wrangling already to get this data into a usable state from the original dump, and here I give just the top 25,000 most liked songs.\n",
    "\n",
    "We'll see if we gain any insight into the how music is consumed using this data."
   ]
  },
  {
   "cell_type": "code",
   "execution_count": 12,
   "metadata": {
    "scrolled": true
   },
   "outputs": [],
   "source": [
    "file = open('../data/thisismyjam_top25k.tsv')\n",
    "#This data uses tabs to separate each point, not the usual commas. Can you think why?\n",
    "this_is_my_jam_dataset = np.loadtxt(file, delimiter = \"\\t\",  dtype = 'O')\n",
    "#Convert everything in the 5th column to an integer (number)\n",
    "this_is_my_jam_dataset[:,4] = this_is_my_jam_dataset[:,4].astype(int)"
   ]
  },
  {
   "cell_type": "markdown",
   "metadata": {},
   "source": [
    "### `np.array`, `shape`\n",
    "\n",
    "When we are working with ``NumPy``, the type of **Lists** that we work with are actually their own _slightly different_ data structure. \n",
    "\n",
    "This is called an ``np.array`` and works very similarly to a List, with some additional functionality. \n",
    "\n",
    "For example, when we have an array with **more than one dimension**, we can use the ``shape()`` function to get the dimensions"
   ]
  },
  {
   "cell_type": "code",
   "execution_count": 13,
   "metadata": {},
   "outputs": [
    {
     "data": {
      "text/plain": [
       "(25000, 5)"
      ]
     },
     "execution_count": 13,
     "metadata": {},
     "output_type": "execute_result"
    }
   ],
   "source": [
    "#Lets look at the shape. There are 25,000 tracks, each with 5 values \n",
    "this_is_my_jam_dataset.shape"
   ]
  },
  {
   "cell_type": "code",
   "execution_count": 14,
   "metadata": {},
   "outputs": [
    {
     "data": {
      "text/plain": [
       "array(['2e279cefb935f6261e56c2b50518e3f1', 'Beach House', 'Lazuli',\n",
       "       '15/12/2012', 27], dtype=object)"
      ]
     },
     "execution_count": 14,
     "metadata": {},
     "output_type": "execute_result"
    }
   ],
   "source": [
    "#What info do we have about each track? \n",
    "#id, title, artist, date added and total number of likes\n",
    "this_is_my_jam_dataset[4002]"
   ]
  },
  {
   "cell_type": "markdown",
   "metadata": {},
   "source": [
    "### 2 Dimensional Lists\n",
    "\n",
    "Up until this point, every **List** we have seen can be considered **1 dimensional**, in that is all the items in the list are just single objects like numbers or strings. But, it is possible to have lists in multiple dimensions and for the time being we will just move to 2.\n",
    "\n",
    "It can help to think of a **1D List** as a queue, or a shopping list. There are only two directions (backwards and forwards) and you only need 1 index to access an item in it.\n",
    "\n",
    "You can think of **2D List** is a grid, so more like a chess board. You can move in 4 directions (forwads, backwards, left and right) and you need 2 indexes to access any item.\n",
    "\n",
    "Technically, in a **2D List**, each item of the outer array is also another **1D List**.\n",
    "\n",
    "### Indexing 2D\n",
    "\n",
    "For a `NumPy` array, we just add in another number when accessing a **single item**. \n",
    "\n",
    "Get the third item from the first row\n",
    "\n",
    "``\n",
    "a[0,2]\n",
    "``\n",
    "\n",
    "Get the fifth item from the third row\n",
    "\n",
    "``\n",
    "a[2,4]\n",
    "``\n",
    "\n",
    "If we do **just give one index**, then the whole row gets returns **as a list**\n",
    "\n",
    "Get every item in the third row\n",
    "\n",
    "``\n",
    "a[2]\n",
    "``"
   ]
  },
  {
   "cell_type": "markdown",
   "metadata": {},
   "source": [
    "### Plotting a single column of data\n",
    "\n",
    "Here we plot every song, with the number of likes for each song on the y axis\n",
    "\n",
    "In this situation, we are **only interested in one of the five columns** of this dataset. This is the fifth and final one that contains the **total likes for that track**. \n",
    "\n",
    "The same way that we have selected **slices** from 1 dimensional Lists before, we can also slice **columns**.\n",
    "\n",
    "### `:` \n",
    "\n",
    "Using the `:` symbol, we can tell **NumPy** that we want to take **every value in that dimension**\n",
    "\n",
    "For example, this line tells us to take all of the rows (every song), but just the 5th column\n",
    "\n",
    "``\n",
    "just_likes = this_is_my_jam_dataset[:,4]\n",
    "``\n",
    "\n"
   ]
  },
  {
   "cell_type": "code",
   "execution_count": 15,
   "metadata": {},
   "outputs": [],
   "source": [
    "#Separate out the just the likes column (the fifth colum, indexed 4 (we start at 0!))\n",
    "#The : tells us to take ALL the rows\n",
    "just_likes = this_is_my_jam_dataset[:,4]"
   ]
  },
  {
   "cell_type": "code",
   "execution_count": 16,
   "metadata": {},
   "outputs": [
    {
     "name": "stdout",
     "output_type": "stream",
     "text": [
      "[[1 2 3]\n",
      " [4 5 6]\n",
      " [7 8 9]]\n",
      "get first column\n",
      "[1 4 7]\n",
      "replace first column\n",
      "[[100   2   3]\n",
      " [100   5   6]\n",
      " [100   8   9]]\n",
      "edit second column\n",
      "[[100   6   3]\n",
      " [100  15   6]\n",
      " [100  24   9]]\n"
     ]
    }
   ],
   "source": [
    "#More generally \n",
    "a = np.array([[1,2,3],[4,5,6],[7,8,9]])\n",
    "print(a)\n",
    "print(\"get first column\")\n",
    "print(a[:,0])\n",
    "print(\"replace first column\")\n",
    "a[:,0] = [100,100,100]\n",
    "print(a)\n",
    "print(\"edit second column\")\n",
    "a[:,1] = a[:,1] * 3\n",
    "print(a)"
   ]
  },
  {
   "cell_type": "markdown",
   "metadata": {},
   "source": [
    "### Getting the axes with `plt.subplots()`\n",
    "\n",
    "Previously we have used `plt.plot()` to make our graphs. We passed in the data needed and some options for display in **as arguments to the function**.\n",
    "\n",
    "When we want some more control over how the plot is displayed, we can use the `plt.subplots()` function first. \n",
    "\n",
    "``\n",
    "fig, ax = plt.subplots()\n",
    "``\n",
    "\n",
    "This returns two things, which we store in the new variables `fig` and `ax`. These are\n",
    "\n",
    "\n",
    "- A `Figure`, this represents the container that the plot is stored in. We'll ignore this for now.\n",
    "\n",
    "\n",
    "- An `Axes`, this represents the plot itself and we can use this to make our plot more informative. \n",
    "\n",
    "\n",
    "### `ax.plot()`\n",
    "\n",
    "Now we've created an `Axes` object, we can use `plot()` in the same way we have been doing before.\n",
    "\n",
    "In fact, the plot we want only really has information **on the y axis** (the total number of likes). The x value simply denotes a new song and this more like an arbitrary id field. \n",
    "\n",
    "In this case, we can actually just pass in **one list of values** (`just_likes`) and the library will work out how to display it.\n",
    "\n",
    "### `ax.set_ylabel()`\n",
    "\n",
    "As the `y axis` has the important information on it, we can help people understand our plots better by labelling them. \n",
    "\n",
    "`ax.set_ylabel()` allows us to pass in a text value. \n"
   ]
  },
  {
   "cell_type": "code",
   "execution_count": 3,
   "metadata": {},
   "outputs": [
    {
     "ename": "NameError",
     "evalue": "name 'just_likes' is not defined",
     "output_type": "error",
     "traceback": [
      "\u001b[0;31m---------------------------------------------------------------------------\u001b[0m",
      "\u001b[0;31mNameError\u001b[0m                                 Traceback (most recent call last)",
      "\u001b[0;32m<ipython-input-3-ee4561abd2a6>\u001b[0m in \u001b[0;36m<module>\u001b[0;34m\u001b[0m\n\u001b[1;32m      2\u001b[0m \u001b[0mfig\u001b[0m\u001b[0;34m,\u001b[0m \u001b[0max\u001b[0m \u001b[0;34m=\u001b[0m \u001b[0mplt\u001b[0m\u001b[0;34m.\u001b[0m\u001b[0msubplots\u001b[0m\u001b[0;34m(\u001b[0m\u001b[0mfigsize\u001b[0m\u001b[0;34m=\u001b[0m\u001b[0;34m(\u001b[0m\u001b[0;36m15\u001b[0m\u001b[0;34m,\u001b[0m\u001b[0;36m9\u001b[0m\u001b[0;34m)\u001b[0m\u001b[0;34m)\u001b[0m\u001b[0;34m\u001b[0m\u001b[0;34m\u001b[0m\u001b[0m\n\u001b[1;32m      3\u001b[0m \u001b[0max\u001b[0m\u001b[0;34m.\u001b[0m\u001b[0mset_ylabel\u001b[0m\u001b[0;34m(\u001b[0m\u001b[0;34m'likes'\u001b[0m\u001b[0;34m)\u001b[0m\u001b[0;34m\u001b[0m\u001b[0;34m\u001b[0m\u001b[0m\n\u001b[0;32m----> 4\u001b[0;31m \u001b[0max\u001b[0m\u001b[0;34m.\u001b[0m\u001b[0mplot\u001b[0m\u001b[0;34m(\u001b[0m\u001b[0mjust_likes\u001b[0m\u001b[0;34m,\u001b[0m \u001b[0;34m\"rx\"\u001b[0m\u001b[0;34m)\u001b[0m\u001b[0;34m\u001b[0m\u001b[0;34m\u001b[0m\u001b[0m\n\u001b[0m\u001b[1;32m      5\u001b[0m \u001b[0mprint\u001b[0m\u001b[0;34m(\u001b[0m\u001b[0mjust_likes\u001b[0m\u001b[0;34m.\u001b[0m\u001b[0mshape\u001b[0m\u001b[0;34m)\u001b[0m\u001b[0;34m\u001b[0m\u001b[0;34m\u001b[0m\u001b[0m\n",
      "\u001b[0;31mNameError\u001b[0m: name 'just_likes' is not defined"
     ]
    },
    {
     "data": {
      "image/png": "[encoded data removed]",
      "text/plain": [
       "<Figure size 1080x648 with 1 Axes>"
      ]
     },
     "metadata": {
      "needs_background": "light"
     },
     "output_type": "display_data"
    }
   ],
   "source": [
    "#plot, here we are making a figure, then adding the plot. This means we can specify the size\n",
    "fig, ax = plt.subp  \n",
    "ax.set_ylabel('likes')\n",
    "ax.plot(just_likes, \"rx\")\n",
    "print(just_likes.shape)"
   ]
  },
  {
   "cell_type": "markdown",
   "metadata": {},
   "source": [
    "### Sorting\n",
    "\n",
    "So every x is a different song, with the y axis (the vertical height) demonstrating the total number of likes.\n",
    "\n",
    "Is that useful? We can't really tell much from this data apart, apart from there are lots and lots of songs that got less than 50 likes, and a few that got more. \n",
    "\n",
    "Lets sort it. Run the cell below and check out the sorted graph.\n",
    "\n",
    "### `sorted()`\n",
    "\n",
    "The `sorted()` function takes a **List** as an argument and returns a **sorted version of that list**. \n"
   ]
  },
  {
   "cell_type": "code",
   "execution_count": 17,
   "metadata": {},
   "outputs": [
    {
     "name": "stdout",
     "output_type": "stream",
     "text": [
      "[1, 2, 3, 4]\n"
     ]
    }
   ],
   "source": [
    "a = [4,3,2,1]\n",
    "a = sorted(a)\n",
    "print(a)"
   ]
  },
  {
   "cell_type": "markdown",
   "metadata": {},
   "source": [
    "Here we add in an extra argument to tell it to sort the **2D list** based on the values in a given column. "
   ]
  },
  {
   "cell_type": "code",
   "execution_count": 18,
   "metadata": {},
   "outputs": [
    {
     "data": {
      "text/plain": [
       "[<matplotlib.lines.Line2D at 0x1144703a0>]"
      ]
     },
     "execution_count": 18,
     "metadata": {},
     "output_type": "execute_result"
    },
    {
     "data": {
      "image/png": "[encoded data removed]",
      "text/plain": [
       "<Figure size 864x576 with 1 Axes>"
      ]
     },
     "metadata": {
      "needs_background": "light"
     },
     "output_type": "display_data"
    }
   ],
   "source": [
    "#Here we sort based on on the 5th column (likes) (dont worry about the code)\n",
    "sorted_likes = np.array(sorted(this_is_my_jam_dataset, key=lambda x: x[4]))\n",
    "just_likes = sorted_likes[:,4]\n",
    "fig, ax = plt.subplots(figsize=(12,8))\n",
    "#Set the y axis label\n",
    "ax.set_ylabel('likes')\n",
    "ax.plot(just_likes, \"rx\")"
   ]
  },
  {
   "cell_type": "markdown",
   "metadata": {},
   "source": [
    "### The Most Popular Songs \n",
    "\n",
    "So it looks like there are a few songs that are **much much** more popular than others. \n",
    "\n",
    "What are they?\n",
    "\n",
    "We can use a couple of **indexing tricks** to get the final few rows from the dataset\n",
    "\n",
    "#### `-` \n",
    "\n",
    "We can use the **negative indexes** to pick a point **from the end**\n",
    "\n",
    "\n",
    "#### `:`\n",
    "\n",
    "We can then use the `:` to say \n",
    "\n",
    "``\n",
    "\"From this point to the end\"\n",
    "``\n",
    "\n",
    "So the code below tells us \n",
    "\n",
    "``\n",
    "Get me the rows from the 6th last, up until the end\n",
    "``"
   ]
  },
  {
   "cell_type": "code",
   "execution_count": 19,
   "metadata": {
    "scrolled": true
   },
   "outputs": [
    {
     "name": "stdout",
     "output_type": "stream",
     "text": [
      "[['a0041c8a65103f15796f94aaffff0a57' 'Foals' 'Inhaler' '21/11/2012' 155]\n",
      " ['fe85d89ceecc834f1cac81cab59dc184' 'Florence + the Machine'\n",
      "  'What the Water Gave Me' '24/04/2012' 155]\n",
      " ['caa282f8b2668135ab3063e64bbfe40b' 'The Black Keys' 'Lonely Boy'\n",
      "  '10/12/2012' 159]\n",
      " ['b7cbcd002400779bdb5443e74119d942' 'Jimmy Page and Robert Plant'\n",
      "  'Kashmir' '16/09/2012' 193]\n",
      " ['964c043c56bbe152f0aa0f9867779c28' 'Roger Waters and Eddie Vedder'\n",
      "  'Comfortably Numb' '14/12/2012' 213]\n",
      " ['30bd1528d671589a24c5ff9b9c53f3ee' 'Tame Impala' 'Elephant'\n",
      "  '11/11/2012' 221]]\n"
     ]
    }
   ],
   "source": [
    "print(sorted_likes[-6:])"
   ]
  },
  {
   "cell_type": "markdown",
   "metadata": {},
   "source": [
    "If we just wanted the **artist and song title**, we can also specify that we only want the 1st (inclusive) to the 3rd (exclusive) (`1:3`)"
   ]
  },
  {
   "cell_type": "code",
   "execution_count": 20,
   "metadata": {},
   "outputs": [
    {
     "name": "stdout",
     "output_type": "stream",
     "text": [
      "[['Foals' 'Inhaler']\n",
      " ['Florence + the Machine' 'What the Water Gave Me']\n",
      " ['The Black Keys' 'Lonely Boy']\n",
      " ['Jimmy Page and Robert Plant' 'Kashmir']\n",
      " ['Roger Waters and Eddie Vedder' 'Comfortably Numb']\n",
      " ['Tame Impala' 'Elephant']]\n"
     ]
    }
   ],
   "source": [
    "print(sorted_likes[-6:,1:3])"
   ]
  },
  {
   "cell_type": "markdown",
   "metadata": {},
   "source": [
    "### Filters \n",
    "\n",
    "We can rephrase the question \n",
    "\n",
    "*What are the top ``n`` most popular songs?* \n",
    "\n",
    "With\n",
    "\n",
    "*What are the songs that have been liked over `n` times?* \n",
    "\n",
    "And ``NumPy`` gives us some easy tools to do this. We can create a **Filter** which poses a **conditional test** (like we did with **if-else statements**). \n",
    "\n",
    "This will test every item in the list, and return only the ones where the **test holds True**"
   ]
  },
  {
   "cell_type": "code",
   "execution_count": 21,
   "metadata": {},
   "outputs": [
    {
     "name": "stdout",
     "output_type": "stream",
     "text": [
      "[['dfabfd4389b7fcbf9a79a48caf51d9ab' 'Massive Attack' 'Protection'\n",
      "  '02/05/2012' 146]\n",
      " ['b0eba6f44a3c97681f3be13a65aa15ee' 'Roxy Music'\n",
      "  'Love Is the Drug (Todd Terje Disco Dub)' '09/12/2012' 149]\n",
      " ['2f8711a46fcf4e08dbf0dd2b1dd031e8' 'The Velvet Underground'\n",
      "  'Pale Blue Eyes' '20/08/2012' 151]\n",
      " ['a0041c8a65103f15796f94aaffff0a57' 'Foals' 'Inhaler' '21/11/2012' 155]\n",
      " ['fe85d89ceecc834f1cac81cab59dc184' 'Florence + the Machine'\n",
      "  'What the Water Gave Me' '24/04/2012' 155]\n",
      " ['caa282f8b2668135ab3063e64bbfe40b' 'The Black Keys' 'Lonely Boy'\n",
      "  '10/12/2012' 159]\n",
      " ['b7cbcd002400779bdb5443e74119d942' 'Jimmy Page and Robert Plant'\n",
      "  'Kashmir' '16/09/2012' 193]\n",
      " ['964c043c56bbe152f0aa0f9867779c28' 'Roger Waters and Eddie Vedder'\n",
      "  'Comfortably Numb' '14/12/2012' 213]\n",
      " ['30bd1528d671589a24c5ff9b9c53f3ee' 'Tame Impala' 'Elephant'\n",
      "  '11/11/2012' 221]]\n"
     ]
    }
   ],
   "source": [
    "## Just the rows where the value in the fifth column is over 140\n",
    "test = sorted_likes[:,4]>140\n",
    "print(sorted_likes[test])"
   ]
  },
  {
   "cell_type": "markdown",
   "metadata": {},
   "source": [
    "### Skewed data\n",
    "\n",
    "Here we see the same pattern we saw in the other plot but much clearer. There is just a masssssssssive tail. Lots of songs with near 0 likes and small amount with lots. We would call this data **skewed**. \n",
    "\n",
    "What we mean by this is that it is **not** centered around some nice average middle value, with sides sloping off in a classic bell shape. \n",
    "\n",
    "And also remember _this is already the top 25k most liked songs (from > 1 million)_, so we have already discounted 100,000s of songs with near to 0 likes. This is a pattern you would see with alot of streaming services, with a few really popular songs / movies and then a long tail of much less popular stuff.\n"
   ]
  },
  {
   "cell_type": "markdown",
   "metadata": {},
   "source": [
    "### Histograms\n",
    "\n",
    "Histograms are a way of summarising data by collecting it into a smaller number of bins. For example, if the full range of data is 0-250, and we ask for 25 bins, we'll get a bar chart that collects together each count in ranges of 10 (0-10,11-20,21-30...). This can be a nice way of getting a rough idea of the shape of how data is distributed. \n",
    "\n",
    "We can again see that there is lots of songs with a small amount of likes, and a long tail trailing off. **Note**, we are now using the x axis to show number of likes, this is just a standard way to show a histogram.\n",
    "\n",
    "#### `ax.set_xticks()`, `ax.set_xticklabels()`\n",
    "\n",
    "In this plot we have are using the functions `ax.set_xticks()` and `ax.set_xticklabels()` to specify the markers and numbers along the x axis. \n",
    "\n",
    "If we don't set them explicitly, `matplotlib` will try and work out what it thinks is best, which is sometimes OK, but sometimes not! For example, here, having a finer grain set of **ticks**, allows us to better understand the smaller bins to the left. \n",
    "\n",
    "Here, we use ``np.arange`` to generate a new list with the numbers **0->300 in steps of 10**. We then set the **ticks**, which is an array of numbers used to set the markers, and the **ticklabels**, which is the actual text labels underneath \n"
   ]
  },
  {
   "cell_type": "code",
   "execution_count": 22,
   "metadata": {},
   "outputs": [
    {
     "data": {
      "image/png": "[encoded data removed]",
      "text/plain": [
       "<Figure size 864x576 with 1 Axes>"
      ]
     },
     "metadata": {
      "needs_background": "light"
     },
     "output_type": "display_data"
    }
   ],
   "source": [
    "fig, ax = plt.subplots(figsize=(12,8)) \n",
    "number_of_bins = 50\n",
    "ax.set_xlabel('likes')\n",
    "#Set the \"ticks\" on the x axis for 0->300 in steps of 10\n",
    "xticks = np.arange(0, 300, 10)\n",
    "ax.set_xticks(xticks)\n",
    "ax.set_xticklabels(xticks, fontsize=12);\n",
    "h = ax.hist(just_likes, bins=number_of_bins)"
   ]
  },
  {
   "cell_type": "markdown",
   "metadata": {},
   "source": [
    "### Changing the scale\n",
    "\n",
    "With all these views on the skewed data, we loose lots of information where its all bunched up together (in our case in the less liked songs). One way to improve this is to move from a **linear** to a **logarithmic** scale. \n",
    "\n",
    "With a **linear** scale (what we have been using up until now), every number of likes has taken up the same amount of screen real-estate across the whole range. \n",
    "\n",
    "For example, if 1-2 likes covers 5 pixels, so does 45-46 and 245-246.\n",
    "\n",
    "A **logarithmic** scale means that smaller values take up more space on the screen, and the values further up get squished together, so in situtations like this where there's alot of interesting stuff happening at the bottom end, and a small amount of data taking up lots of room in the higher values, its perfect. \n",
    "\n",
    "Using this log scale on the standard scatter plot we can now see a lot more detail about how the less played songs are distributed. "
   ]
  },
  {
   "cell_type": "code",
   "execution_count": 23,
   "metadata": {},
   "outputs": [
    {
     "data": {
      "text/plain": [
       "[<matplotlib.lines.Line2D at 0x114af08b0>]"
      ]
     },
     "execution_count": 23,
     "metadata": {},
     "output_type": "execute_result"
    },
    {
     "data": {
      "image/png": "[encoded data removed]",
      "text/plain": [
       "<Figure size 864x576 with 1 Axes>"
      ]
     },
     "metadata": {
      "needs_background": "light"
     },
     "output_type": "display_data"
    }
   ],
   "source": [
    "fig, ax = plt.subplots(figsize=(12,8))\n",
    "ax.set_yscale('log')\n",
    "#Set the \"ticks\" on the y axis to accomodate log spacing\n",
    "yticks = [1,2,4,8,16,32,64,128,256]\n",
    "ax.set_yticks(yticks)\n",
    "ax.set_yticklabels([y for y in yticks], fontsize=12);\n",
    "ax.plot(just_likes, \"rx\")"
   ]
  },
  {
   "cell_type": "markdown",
   "metadata": {},
   "source": [
    "### Log histogram\n",
    "\n",
    "And for the histogram (this time using the log scale in the x axis), we get tonnes more resolution in the lower bins when we use a larger number of bins. This gives us more insight into how the songs likes a distributed amongst the lower ranges. Here we can again see lots of the songs have 7 or less likes (maybe a third of them?) and then theres a pretty steep drop off as we move into more songs with more likes. "
   ]
  },
  {
   "cell_type": "code",
   "execution_count": 22,
   "metadata": {},
   "outputs": [
    {
     "name": "stdout",
     "output_type": "stream",
     "text": [
      "(25000,)\n"
     ]
    },
    {
     "data": {
      "image/png": "[encoded data removed]",
      "text/plain": [
       "<Figure size 1008x576 with 1 Axes>"
      ]
     },
     "metadata": {
      "needs_background": "light"
     },
     "output_type": "display_data"
    }
   ],
   "source": [
    "fig, ax = plt.subplots(figsize=(14,8))\n",
    "ax.set_xscale('log')\n",
    "#Set the \"ticks\" on the x axis to accomodate log spacing\n",
    "xticks = [1,2,4,8,16,32,64,128,256]\n",
    "ax.set_xticks(xticks)\n",
    "ax.set_xticklabels(xticks, fontsize=12);\n",
    "number_of_bins = 200\n",
    "#Plot the likes (4th column)\n",
    "h = ax.hist(just_likes, bins=number_of_bins)\n",
    "print(just_likes.shape)"
   ]
  },
  {
   "cell_type": "markdown",
   "metadata": {},
   "source": [
    "### Averages \n",
    "\n",
    "So far we have been using different plotting methods to get a feel for our data. Different types of averages can also be good stats to plot on our graphs to get a feel for how it is distributed and there are three common ways using determining the averages. \n",
    "\n",
    "1. Mean - The sum of all values, divided by the number of values. We can use the built in `np.mean()` function.\n",
    "\n",
    "\n",
    "2. Mode - The most frequent value. There is not a function in `NumPy` to calculate this, however, we can use the `Counter` object imported from the `collections` package. This counts up the occurences of each unique item in the list. This then has a function `most_common()` which will give us the Mode.\n",
    "\n",
    "\n",
    "3. Median - The middle value. We can use the built in `np.median()` function.\n",
    "\n",
    "Each one comes with advantages and disadvantages. For example, a mean can be overly affected by extreme values. Equally, both the mode and the median are only capable of returning values that are already in the data set so wouldn't work well for really unbalanced, or sparse, data."
   ]
  },
  {
   "cell_type": "code",
   "execution_count": 20,
   "metadata": {
    "scrolled": true
   },
   "outputs": [
    {
     "name": "stdout",
     "output_type": "stream",
     "text": [
      "18.67612\n",
      "13.0\n",
      "8\n",
      "7\n"
     ]
    }
   ],
   "source": [
    "from collections import Counter\n",
    "#Mean\n",
    "mean = np.mean(just_likes)\n",
    "print(mean)\n",
    "#Median\n",
    "median = np.median(just_likes)\n",
    "print(median)\n",
    "#Mode\n",
    "mode = Counter(just_likes).most_common(1)[0][0]\n",
    "print(mode)\n",
    "#Min\n",
    "print(np.min(just_likes))"
   ]
  },
  {
   "cell_type": "markdown",
   "metadata": {},
   "source": [
    "### Multiple Plots on The Same ``Axes``\n",
    "\n",
    "Here we plot the values on the main graph. \n",
    "\n",
    "We can just call `plot()` again on the same `ax` object and it gets drawn on the same graph. \n",
    "\n",
    "Here, we give each one a **different display option**, and its own `label`. This means when we call `plt.legend()`, the label can be used to **show which shape represents each value**"
   ]
  },
  {
   "cell_type": "code",
   "execution_count": 21,
   "metadata": {},
   "outputs": [
    {
     "name": "stdout",
     "output_type": "stream",
     "text": [
      "(25000,)\n"
     ]
    },
    {
     "data": {
      "text/plain": [
       "<matplotlib.legend.Legend at 0x7fc8c9fd2be0>"
      ]
     },
     "execution_count": 21,
     "metadata": {},
     "output_type": "execute_result"
    },
    {
     "data": {
      "image/png": "[encoded data removed]",
      "text/plain": [
       "<Figure size 864x576 with 1 Axes>"
      ]
     },
     "metadata": {
      "needs_background": "light"
     },
     "output_type": "display_data"
    }
   ],
   "source": [
    "fig, ax = plt.subplots(figsize=(12,8))\n",
    "ax.set_yscale('log')\n",
    "#Set the \"ticks\" on the y axis to accomodate log spacing\n",
    "yticks = [1,2,4,8,16,32,64,128,256]\n",
    "ax.set_yticks(yticks)\n",
    "ax.set_yticklabels([y for y in yticks], fontsize=12);\n",
    "ax.plot(just_likes, \"rx\", ms = 5)\n",
    "print(just_likes.shape)\n",
    "#Get x point in middle\n",
    "mid_x = [len(just_likes)/2]\n",
    "\n",
    "ax.plot(mid_x, [mean], \"mx\", ms = 14, label = \"mean\")\n",
    "ax.plot(mid_x, [median], \"bx\", ms = 14, label = \"median\")\n",
    "ax.plot(mid_x, [mode], \"gx\", ms = 14, label = \"mode\")\n",
    "#Add key\n",
    "plt.legend()"
   ]
  },
  {
   "cell_type": "markdown",
   "metadata": {},
   "source": [
    "### What does it tell us?\n",
    "\n",
    "What we see here is the mean gives the highest value (effected by those highly listened to tracks). The mode is lowest, again showing us that there is a weighting towards tracks liked a small number of times. I also printed out the minimum to see how close 8 was to the bottom, and its 7. \n",
    "\n",
    "In this case, the **median probably summarises the data the best**, but **none of the numbers really tell us about the whole picture**. "
   ]
  },
  {
   "cell_type": "markdown",
   "metadata": {},
   "source": [
    "\n",
    "### Relationships \n",
    "Finally, we're going to look at relationships between two variables in data. Now, we have this data because the company went defunct (~2013?) so I'm going to see if there is any relationship between number of songs being liked for the first time and time passing. \n",
    "\n",
    "There is some formatting necessary to turn the dates from ``Strings`` into ``Dates`` so that we can do maths (e.g. ``sorted()``.\n",
    "\n",
    "**Its not necessary to understand this code, its quite advanced!**"
   ]
  },
  {
   "cell_type": "code",
   "execution_count": 94,
   "metadata": {},
   "outputs": [
    {
     "name": "stdout",
     "output_type": "stream",
     "text": [
      "\n",
      "\n",
      "\n"
     ]
    },
    {
     "data": {
      "text/plain": [
       "('09/20/2011', '12/15/2012')"
      ]
     },
     "execution_count": 94,
     "metadata": {},
     "output_type": "execute_result"
    }
   ],
   "source": [
    "#Turn dates into datetime objects so we can compare them\n",
    "#This is a faff because there are two types of format, and some missing dates\n",
    "from datetime import datetime as dt\n",
    "def get_date(date_string):\n",
    "    date = dt.now()\n",
    "    try:\n",
    "        date = dt.strptime(date_string,'%d/%m/%Y')\n",
    "    except:\n",
    "        #If error using first format, try this format\n",
    "        try:\n",
    "            date = dt.strptime(date_string,'%Y-%m-%d')\n",
    "        except:\n",
    "            print(date_string)\n",
    "    return date.timestamp()\n",
    "\n",
    "#Convert dates into timestamps\n",
    "dates = [get_date(i) for i in this_is_my_jam_dataset[:,3]]\n",
    "#Count number of likes for each day\n",
    "date_count = Counter(dates)\n",
    "#Split dictionary into 2d array\n",
    "date_count = np.array([[k,v] for k, v in date_count.items()])\n",
    "#Sort by date\n",
    "date_count = np.array(sorted(date_count, key=lambda x: x[0]))\n",
    "#Trim of the end (missing dates)\n",
    "date_count = date_count[0:-30,:]\n",
    "#Date range (first -> first from end (-1))\n",
    "formatted_dates = np.array([dt.fromtimestamp(x).strftime(\"%m/%d/%Y\") for x in date_count[:,0]])\n",
    "formatted_dates[0],formatted_dates[-1]"
   ]
  },
  {
   "cell_type": "code",
   "execution_count": 98,
   "metadata": {},
   "outputs": [
    {
     "data": {
      "image/png": "[encoded data removed]",
      "text/plain": [
       "<Figure size 864x576 with 1 Axes>"
      ]
     },
     "metadata": {
      "needs_background": "light"
     },
     "output_type": "display_data"
    }
   ],
   "source": [
    "#Plot\n",
    "fig, ax = plt.subplots(figsize=(12,8))\n",
    "#Plot likes (y axis) against dates (x axis)\n",
    "ax.plot(date_count[:,1], \"rx\")\n",
    "#Get every 50th date to plot as tick label\n",
    "date_labels = formatted_dates[0:-1:50]\n",
    "ax.set_xticks(np.linspace(0,len(date_count[:,1]), len(date_labels)))\n",
    "b = ax.set_xticklabels(date_labels)"
   ]
  },
  {
   "cell_type": "markdown",
   "metadata": {},
   "source": [
    "### Correlation \n",
    "Here we can see what seems like a massive relationship between date and the number of tracks liked on that day. We would say there is probably **positive correlation** between the two things. As dates go up, likes go up. If the relationship was matching the other way round, we'd say it had **negative correlation**.\n",
    "\n",
    "We can see that at somepoint, the likes really started to go up. I would imagine if we had all the data (not just the top likes), we could also see it coming back down the other side, before the going out of business of it all.\n",
    "\n",
    "But can we calculate this relationship with a number?\n",
    "\n",
    "#### Pearson's r coeffient\n",
    "Runs from -1 to 1 and tells us how correlated two variables are. A correlation of 0 is random (no relationship).\n",
    "\n",
    "Here we see that Pearson's r coeffient is 0.951. This closeness to 1 tells us that there is a pretty good correlation between the number of likes occurring and the date. It also gives us a **p-value**, which is something that we cover later on in the course. Essentially this gives us a measure of how likely a result is to a have happened purely by chance, and in this case, the number is very low suggesting that is unlikely this correlation is a random quirk of the data. \n",
    "\n",
    "_This being said_, always remember that correlation doesn't mean causation. \n",
    "\n"
   ]
  },
  {
   "cell_type": "code",
   "execution_count": 100,
   "metadata": {},
   "outputs": [
    {
     "name": "stdout",
     "output_type": "stream",
     "text": [
      "(0.9506520157432298, 9.902623705262725e-224)\n",
      "SpearmanrResult(correlation=0.9533891316124093, pvalue=5.3056411701401654e-229)\n"
     ]
    }
   ],
   "source": [
    "import scipy.stats\n",
    "print(scipy.stats.pearsonr(date_count[:,0], date_count[:,1]))    # Pearson's r\n",
    "print(scipy.stats.spearmanr(date_count[:,0], date_count[:,1]))   # Spearman's rho"
   ]
  },
  {
   "cell_type": "markdown",
   "metadata": {},
   "source": [
    "\n",
    "### Round up\n",
    "\n",
    "To summarise, we've seen how we can use different plots, stats, and scales to explore some user preference data from a music streaming service. \n",
    "\n",
    "- Just plotting the data in its given order didn't show us much as there were way too many datapoints. Other plots, or summary statistics can get further insight.\n",
    "- Sorting the data and plotting it made the trend in the skewed data clearer. \n",
    "- Box and Whisker plots and Histograms also were a way to demonstrate this skew (lots of low values). \n",
    "- The plotting the means, medians and modes can also tell us more about the data.\n",
    "- When we have this skew, using a **logarithmic** scale can give better resolution to lower ranges."
   ]
  },
  {
   "cell_type": "code",
   "execution_count": null,
   "metadata": {},
   "outputs": [],
   "source": []
  }
 ],
 "metadata": {
  "kernelspec": {
   "display_name": "Python 3",
   "language": "python",
   "name": "python3"
  },
  "language_info": {
   "codemirror_mode": {
    "name": "ipython",
    "version": 3
   },
   "file_extension": ".py",
   "mimetype": "text/x-python",
   "name": "python",
   "nbconvert_exporter": "python",
   "pygments_lexer": "ipython3",
   "version": "3.9.7"
  }
 },
 "nbformat": 4,
 "nbformat_minor": 4
}
