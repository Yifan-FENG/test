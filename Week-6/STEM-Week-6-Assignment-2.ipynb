{
 "cells": [
  {
   "cell_type": "markdown",
   "metadata": {},
   "source": [
    "## Task 1"
   ]
  },
  {
   "cell_type": "code",
   "execution_count": 1,
   "metadata": {},
   "outputs": [],
   "source": [
    "import numpy as np"
   ]
  },
  {
   "cell_type": "code",
   "execution_count": null,
   "metadata": {},
   "outputs": [],
   "source": [
    "file_path = ????\n",
    "audio_data, sr = librosa.load(file_path)\n",
    "\n",
    "delay = 10000\n",
    "speed = 1.1\n",
    "decay = 0.9\n",
    "new_file_length = sr * 10\n",
    "new_file = np.array([np.zeros(new_file_length), np.zeros(new_file_length)], dtype = float)\n",
    "\n",
    "#Use a conditional to determine when to exit the loop\n",
    "while ?????:\n",
    "\n",
    "    #Build up delay effect with audio_data into new_file within the loop\n",
    "        #Choose where to place the source audio into the new_file placeholder\n",
    "    \n",
    "    #Before the next bounce\n",
    "        #The left/right channel should switch\n",
    "\n",
    "        #The reflection should get quieter (eventually reaching 0)\n",
    "\n",
    "        #The delay until the next bounce should get shorter (eventually reaching 0)\n",
    "        \n",
    "    "
   ]
  },
  {
   "cell_type": "markdown",
   "metadata": {},
   "source": [
    "## Task 2"
   ]
  },
  {
   "cell_type": "code",
   "execution_count": null,
   "metadata": {},
   "outputs": [],
   "source": [
    "import os\n",
    "import cv2\n",
    "import numpy as np \n",
    "import IPython.display as ipd\n",
    "import librosa\n",
    "from PIL import Image"
   ]
  },
  {
   "cell_type": "code",
   "execution_count": null,
   "metadata": {},
   "outputs": [],
   "source": [
    "folder_path = ????\n",
    "\n",
    "#Start with 0 (anything will be bigger than this)\n",
    "biggest = [0, 0]\n",
    "#Go through all the files in the folder, find the longest and widest images \n",
    "for root, dirs, files in os.walk(folder_path, topdown=False):\n",
    "    for name in files:\n",
    "        if \".jpg\" in name:\n",
    "           \n",
    "        \n",
    "\n",
    "new_images = []\n",
    "#Go through all the files in the folder\n",
    "for root, dirs, files in os.walk(folder_path, topdown=False):\n",
    "    for name in files:\n",
    "        if not \".DS_Store\" in name:\n",
    "        #Load in the image\n",
    "        \n",
    "        \n",
    "        #Make a new blank placeholder image (as big as the biggest)\n",
    "        \n",
    "        \n",
    "        #Place the loaded image in the middle of the placeholder\n",
    "        \n",
    "        \n",
    "        #Copy the top border from the original, reflect, insert into the top border of the placeholder\n",
    "        \n",
    "        \n",
    "        #Do for the bottom, left, and right border\n",
    "        \n",
    "        \n",
    "        #Append to new_images array\n",
    "        \n",
    "\n",
    "#You have a new array of equally sized images!"
   ]
  }
 ],
 "metadata": {
  "kernelspec": {
   "display_name": "Python 3",
   "language": "python",
   "name": "python3"
  },
  "language_info": {
   "codemirror_mode": {
    "name": "ipython",
    "version": 3
   },
   "file_extension": ".py",
   "mimetype": "text/x-python",
   "name": "python",
   "nbconvert_exporter": "python",
   "pygments_lexer": "ipython3",
   "version": "3.8.5"
  }
 },
 "nbformat": 4,
 "nbformat_minor": 4
}
